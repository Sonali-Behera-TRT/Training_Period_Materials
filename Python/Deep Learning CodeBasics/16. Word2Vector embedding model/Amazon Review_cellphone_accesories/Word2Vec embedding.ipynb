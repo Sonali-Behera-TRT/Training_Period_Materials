{
 "cells": [
  {
   "cell_type": "code",
   "execution_count": 1,
   "id": "e0a89609",
   "metadata": {},
   "outputs": [],
   "source": [
    "import gensim\n",
    "import pandas as pd"
   ]
  },
  {
   "cell_type": "code",
   "execution_count": 2,
   "id": "073aa411",
   "metadata": {},
   "outputs": [
    {
     "name": "stdout",
     "output_type": "stream",
     "text": [
      " Volume in drive C has no label.\n",
      " Volume Serial Number is EA71-D833\n",
      "\n",
      " Directory of C:\\Users\\LENOVO\\Desktop\\Sonali's Folder\\Desktop files\\TRT\\Python\\Deep Learning CodeBasics\\16. Word2Vector embedding model\n",
      "\n",
      "07/07/2023  07:01 PM    <DIR>          .\n",
      "07/07/2023  06:07 PM    <DIR>          ..\n",
      "07/07/2023  06:30 PM    <DIR>          .ipynb_checkpoints\n",
      "07/07/2023  05:45 PM       141,690,237 reviews_Cell_Phones_and_Accessories_5 (1).json\n",
      "07/07/2023  07:01 PM            17,388 Word2Vec embedding.ipynb\n",
      "07/07/2023  06:52 PM        29,529,248 word2vec-amazon-cell-accessories-reviews-short.model\n",
      "               3 File(s)    171,236,873 bytes\n",
      "               3 Dir(s)   6,526,431,232 bytes free\n"
     ]
    }
   ],
   "source": [
    "ls"
   ]
  },
  {
   "cell_type": "code",
   "execution_count": 3,
   "id": "c7eb1a15",
   "metadata": {},
   "outputs": [
    {
     "data": {
      "text/plain": [
       "(194439, 9)"
      ]
     },
     "execution_count": 3,
     "metadata": {},
     "output_type": "execute_result"
    }
   ],
   "source": [
    "df = pd.read_json('reviews_Cell_Phones_and_Accessories_5 (1).json', lines=True)\n",
    "df.shape"
   ]
  },
  {
   "cell_type": "code",
   "execution_count": 4,
   "id": "019f3ee2",
   "metadata": {},
   "outputs": [
    {
     "data": {
      "text/html": [
       "<div>\n",
       "<style scoped>\n",
       "    .dataframe tbody tr th:only-of-type {\n",
       "        vertical-align: middle;\n",
       "    }\n",
       "\n",
       "    .dataframe tbody tr th {\n",
       "        vertical-align: top;\n",
       "    }\n",
       "\n",
       "    .dataframe thead th {\n",
       "        text-align: right;\n",
       "    }\n",
       "</style>\n",
       "<table border=\"1\" class=\"dataframe\">\n",
       "  <thead>\n",
       "    <tr style=\"text-align: right;\">\n",
       "      <th></th>\n",
       "      <th>reviewerID</th>\n",
       "      <th>asin</th>\n",
       "      <th>reviewerName</th>\n",
       "      <th>helpful</th>\n",
       "      <th>reviewText</th>\n",
       "      <th>overall</th>\n",
       "      <th>summary</th>\n",
       "      <th>unixReviewTime</th>\n",
       "      <th>reviewTime</th>\n",
       "    </tr>\n",
       "  </thead>\n",
       "  <tbody>\n",
       "    <tr>\n",
       "      <th>0</th>\n",
       "      <td>A30TL5EWN6DFXT</td>\n",
       "      <td>120401325X</td>\n",
       "      <td>christina</td>\n",
       "      <td>[0, 0]</td>\n",
       "      <td>They look good and stick good! I just don't li...</td>\n",
       "      <td>4</td>\n",
       "      <td>Looks Good</td>\n",
       "      <td>1400630400</td>\n",
       "      <td>05 21, 2014</td>\n",
       "    </tr>\n",
       "    <tr>\n",
       "      <th>1</th>\n",
       "      <td>ASY55RVNIL0UD</td>\n",
       "      <td>120401325X</td>\n",
       "      <td>emily l.</td>\n",
       "      <td>[0, 0]</td>\n",
       "      <td>These stickers work like the review says they ...</td>\n",
       "      <td>5</td>\n",
       "      <td>Really great product.</td>\n",
       "      <td>1389657600</td>\n",
       "      <td>01 14, 2014</td>\n",
       "    </tr>\n",
       "    <tr>\n",
       "      <th>2</th>\n",
       "      <td>A2TMXE2AFO7ONB</td>\n",
       "      <td>120401325X</td>\n",
       "      <td>Erica</td>\n",
       "      <td>[0, 0]</td>\n",
       "      <td>These are awesome and make my phone look so st...</td>\n",
       "      <td>5</td>\n",
       "      <td>LOVE LOVE LOVE</td>\n",
       "      <td>1403740800</td>\n",
       "      <td>06 26, 2014</td>\n",
       "    </tr>\n",
       "    <tr>\n",
       "      <th>3</th>\n",
       "      <td>AWJ0WZQYMYFQ4</td>\n",
       "      <td>120401325X</td>\n",
       "      <td>JM</td>\n",
       "      <td>[4, 4]</td>\n",
       "      <td>Item arrived in great time and was in perfect ...</td>\n",
       "      <td>4</td>\n",
       "      <td>Cute!</td>\n",
       "      <td>1382313600</td>\n",
       "      <td>10 21, 2013</td>\n",
       "    </tr>\n",
       "    <tr>\n",
       "      <th>4</th>\n",
       "      <td>ATX7CZYFXI1KW</td>\n",
       "      <td>120401325X</td>\n",
       "      <td>patrice m rogoza</td>\n",
       "      <td>[2, 3]</td>\n",
       "      <td>awesome! stays on, and looks great. can be use...</td>\n",
       "      <td>5</td>\n",
       "      <td>leopard home button sticker for iphone 4s</td>\n",
       "      <td>1359849600</td>\n",
       "      <td>02 3, 2013</td>\n",
       "    </tr>\n",
       "  </tbody>\n",
       "</table>\n",
       "</div>"
      ],
      "text/plain": [
       "       reviewerID        asin      reviewerName helpful  \\\n",
       "0  A30TL5EWN6DFXT  120401325X         christina  [0, 0]   \n",
       "1   ASY55RVNIL0UD  120401325X          emily l.  [0, 0]   \n",
       "2  A2TMXE2AFO7ONB  120401325X             Erica  [0, 0]   \n",
       "3   AWJ0WZQYMYFQ4  120401325X                JM  [4, 4]   \n",
       "4   ATX7CZYFXI1KW  120401325X  patrice m rogoza  [2, 3]   \n",
       "\n",
       "                                          reviewText  overall  \\\n",
       "0  They look good and stick good! I just don't li...        4   \n",
       "1  These stickers work like the review says they ...        5   \n",
       "2  These are awesome and make my phone look so st...        5   \n",
       "3  Item arrived in great time and was in perfect ...        4   \n",
       "4  awesome! stays on, and looks great. can be use...        5   \n",
       "\n",
       "                                     summary  unixReviewTime   reviewTime  \n",
       "0                                 Looks Good      1400630400  05 21, 2014  \n",
       "1                      Really great product.      1389657600  01 14, 2014  \n",
       "2                             LOVE LOVE LOVE      1403740800  06 26, 2014  \n",
       "3                                      Cute!      1382313600  10 21, 2013  \n",
       "4  leopard home button sticker for iphone 4s      1359849600   02 3, 2013  "
      ]
     },
     "execution_count": 4,
     "metadata": {},
     "output_type": "execute_result"
    }
   ],
   "source": [
    "df.head()"
   ]
  },
  {
   "cell_type": "code",
   "execution_count": 5,
   "id": "7ef88c70",
   "metadata": {},
   "outputs": [
    {
     "data": {
      "text/plain": [
       "\"They look good and stick good! I just don't like the rounded shape because I was always bumping it and Siri kept popping up and it was irritating. I just won't buy a product like this again\""
      ]
     },
     "execution_count": 5,
     "metadata": {},
     "output_type": "execute_result"
    }
   ],
   "source": [
    "df.reviewText[0]"
   ]
  },
  {
   "cell_type": "code",
   "execution_count": 6,
   "id": "8d0bdec4",
   "metadata": {},
   "outputs": [
    {
     "data": {
      "text/plain": [
       "['they',\n",
       " 'look',\n",
       " 'good',\n",
       " 'and',\n",
       " 'stick',\n",
       " 'good',\n",
       " 'just',\n",
       " 'don',\n",
       " 'like',\n",
       " 'the',\n",
       " 'rounded',\n",
       " 'shape',\n",
       " 'because',\n",
       " 'was',\n",
       " 'always',\n",
       " 'bumping',\n",
       " 'it',\n",
       " 'and',\n",
       " 'siri',\n",
       " 'kept',\n",
       " 'popping',\n",
       " 'up',\n",
       " 'and',\n",
       " 'it',\n",
       " 'was',\n",
       " 'irritating',\n",
       " 'just',\n",
       " 'won',\n",
       " 'buy',\n",
       " 'product',\n",
       " 'like',\n",
       " 'this',\n",
       " 'again']"
      ]
     },
     "execution_count": 6,
     "metadata": {},
     "output_type": "execute_result"
    }
   ],
   "source": [
    "gensim.utils.simple_preprocess(df.reviewText[0])"
   ]
  },
  {
   "cell_type": "code",
   "execution_count": 7,
   "id": "857ffe0d",
   "metadata": {},
   "outputs": [
    {
     "data": {
      "text/plain": [
       "(194439,)"
      ]
     },
     "execution_count": 7,
     "metadata": {},
     "output_type": "execute_result"
    }
   ],
   "source": [
    "review_text = df.reviewText.apply(gensim.utils.simple_preprocess)\n",
    "review_text.shape"
   ]
  },
  {
   "cell_type": "code",
   "execution_count": 8,
   "id": "d8ac39d9",
   "metadata": {},
   "outputs": [
    {
     "data": {
      "text/plain": [
       "0         [they, look, good, and, stick, good, just, don...\n",
       "1         [these, stickers, work, like, the, review, say...\n",
       "2         [these, are, awesome, and, make, my, phone, lo...\n",
       "3         [item, arrived, in, great, time, and, was, in,...\n",
       "4         [awesome, stays, on, and, looks, great, can, b...\n",
       "                                ...                        \n",
       "194434    [works, great, just, like, my, original, one, ...\n",
       "194435    [great, product, great, packaging, high, quali...\n",
       "194436    [this, is, great, cable, just, as, good, as, t...\n",
       "194437    [really, like, it, becasue, it, works, well, w...\n",
       "194438    [product, as, described, have, wasted, lot, of...\n",
       "Name: reviewText, Length: 194439, dtype: object"
      ]
     },
     "execution_count": 8,
     "metadata": {},
     "output_type": "execute_result"
    }
   ],
   "source": [
    "review_text"
   ]
  },
  {
   "cell_type": "code",
   "execution_count": 9,
   "id": "4d6aff0b",
   "metadata": {},
   "outputs": [
    {
     "data": {
      "text/plain": [
       "['these',\n",
       " 'make',\n",
       " 'using',\n",
       " 'the',\n",
       " 'home',\n",
       " 'button',\n",
       " 'easy',\n",
       " 'my',\n",
       " 'daughter',\n",
       " 'and',\n",
       " 'both',\n",
       " 'like',\n",
       " 'them',\n",
       " 'would',\n",
       " 'purchase',\n",
       " 'them',\n",
       " 'again',\n",
       " 'well',\n",
       " 'worth',\n",
       " 'the',\n",
       " 'price']"
      ]
     },
     "execution_count": 9,
     "metadata": {},
     "output_type": "execute_result"
    }
   ],
   "source": [
    "review_text[5]"
   ]
  },
  {
   "cell_type": "code",
   "execution_count": 10,
   "id": "b77c5666",
   "metadata": {},
   "outputs": [],
   "source": [
    "model = gensim.models.Word2Vec(\n",
    "    window=10,\n",
    "    min_count=2,\n",
    "    workers=4\n",
    ")"
   ]
  },
  {
   "cell_type": "code",
   "execution_count": 11,
   "id": "6c76a9f6",
   "metadata": {},
   "outputs": [],
   "source": [
    "model.build_vocab(review_text)"
   ]
  },
  {
   "cell_type": "code",
   "execution_count": 12,
   "id": "18ea4bc5",
   "metadata": {},
   "outputs": [
    {
     "data": {
      "text/plain": [
       "194439"
      ]
     },
     "execution_count": 12,
     "metadata": {},
     "output_type": "execute_result"
    }
   ],
   "source": [
    "model.corpus_count"
   ]
  },
  {
   "cell_type": "code",
   "execution_count": 13,
   "id": "b1547d2b",
   "metadata": {},
   "outputs": [
    {
     "data": {
      "text/plain": [
       "5"
      ]
     },
     "execution_count": 13,
     "metadata": {},
     "output_type": "execute_result"
    }
   ],
   "source": [
    "model.epochs"
   ]
  },
  {
   "cell_type": "code",
   "execution_count": 14,
   "id": "e1823f18",
   "metadata": {},
   "outputs": [
    {
     "data": {
      "text/plain": [
       "(61508160, 83868975)"
      ]
     },
     "execution_count": 14,
     "metadata": {},
     "output_type": "execute_result"
    }
   ],
   "source": [
    "model.train(review_text, total_examples=model.corpus_count, epochs = model.epochs)"
   ]
  },
  {
   "cell_type": "code",
   "execution_count": 15,
   "id": "982b1955",
   "metadata": {},
   "outputs": [],
   "source": [
    "model.save('./word2vec-amazon-cell-accessories-reviews-short.model')"
   ]
  },
  {
   "cell_type": "code",
   "execution_count": 16,
   "id": "23cdf916",
   "metadata": {},
   "outputs": [
    {
     "data": {
      "text/plain": [
       "10"
      ]
     },
     "execution_count": 16,
     "metadata": {},
     "output_type": "execute_result"
    }
   ],
   "source": [
    "model.window"
   ]
  },
  {
   "cell_type": "code",
   "execution_count": 17,
   "id": "bbfae5c3",
   "metadata": {},
   "outputs": [
    {
     "data": {
      "text/plain": [
       "[('shabby', 0.7070279121398926),\n",
       " ('terrible', 0.6801534295082092),\n",
       " ('good', 0.5997705459594727),\n",
       " ('horrible', 0.5772253274917603),\n",
       " ('awful', 0.5576512217521667),\n",
       " ('crappy', 0.5455475449562073),\n",
       " ('okay', 0.5317150354385376),\n",
       " ('cheap', 0.5212162137031555),\n",
       " ('sad', 0.5116311311721802),\n",
       " ('mad', 0.5111215114593506)]"
      ]
     },
     "execution_count": 17,
     "metadata": {},
     "output_type": "execute_result"
    }
   ],
   "source": [
    "model.wv.most_similar('bad')"
   ]
  },
  {
   "cell_type": "code",
   "execution_count": 18,
   "id": "67595428",
   "metadata": {},
   "outputs": [
    {
     "data": {
      "text/plain": [
       "0.5997706"
      ]
     },
     "execution_count": 18,
     "metadata": {},
     "output_type": "execute_result"
    }
   ],
   "source": [
    "model.wv.similarity('good', 'bad')"
   ]
  },
  {
   "cell_type": "code",
   "execution_count": 19,
   "id": "5077eaa4",
   "metadata": {},
   "outputs": [
    {
     "data": {
      "text/plain": [
       "[('shabby', 0.7070279121398926),\n",
       " ('terrible', 0.6801534295082092),\n",
       " ('good', 0.5997705459594727),\n",
       " ('horrible', 0.5772253274917603),\n",
       " ('awful', 0.5576512217521667),\n",
       " ('crappy', 0.5455475449562073),\n",
       " ('okay', 0.5317150354385376),\n",
       " ('cheap', 0.5212162137031555),\n",
       " ('sad', 0.5116311311721802),\n",
       " ('mad', 0.5111215114593506),\n",
       " ('poor', 0.510383129119873),\n",
       " ('funny', 0.5071271657943726),\n",
       " ('ok', 0.5062127709388733),\n",
       " ('legit', 0.4995327293872833),\n",
       " ('decent', 0.49528971314430237),\n",
       " ('badly', 0.49224454164505005),\n",
       " ('disappointing', 0.490239679813385),\n",
       " ('pathetic', 0.4850870370864868),\n",
       " ('crummy', 0.4847724139690399),\n",
       " ('weird', 0.4842228591442108)]"
      ]
     },
     "execution_count": 19,
     "metadata": {},
     "output_type": "execute_result"
    }
   ],
   "source": [
    "model.wv.similar_by_word('bad', topn=20)"
   ]
  },
  {
   "cell_type": "code",
   "execution_count": 20,
   "id": "80d00486",
   "metadata": {},
   "outputs": [
    {
     "data": {
      "text/plain": [
       "0.46336937"
      ]
     },
     "execution_count": 20,
     "metadata": {},
     "output_type": "execute_result"
    }
   ],
   "source": [
    "model.wv.similarity('cheap', 'expensive')"
   ]
  },
  {
   "cell_type": "code",
   "execution_count": 21,
   "id": "bc24bc5a",
   "metadata": {},
   "outputs": [
    {
     "data": {
      "text/plain": [
       "0.77720624"
      ]
     },
     "execution_count": 21,
     "metadata": {},
     "output_type": "execute_result"
    }
   ],
   "source": [
    "model.wv.similarity('great', 'good')"
   ]
  },
  {
   "cell_type": "code",
   "execution_count": 22,
   "id": "4c664348",
   "metadata": {},
   "outputs": [
    {
     "data": {
      "text/plain": [
       "'awful'"
      ]
     },
     "execution_count": 22,
     "metadata": {},
     "output_type": "execute_result"
    }
   ],
   "source": [
    "model.wv.most_similar_to_given('bad', ['fake', 'upset', 'disappointing', 'badly', 'awful'])"
   ]
  },
  {
   "cell_type": "code",
   "execution_count": 23,
   "id": "c8b2d29a",
   "metadata": {},
   "outputs": [
    {
     "data": {
      "text/plain": [
       "[('extremely', 0.00096372684),\n",
       " ('very', 0.0008596026),\n",
       " ('kinda', 0.0006133053),\n",
       " ('terribly', 0.00058755936),\n",
       " ('wasn', 0.0005291689),\n",
       " ('totally', 0.00050062843),\n",
       " ('fake', 0.00044936445),\n",
       " ('pretty', 0.00039842053),\n",
       " ('am', 0.0003655071),\n",
       " ('super', 0.00036400295)]"
      ]
     },
     "execution_count": 23,
     "metadata": {},
     "output_type": "execute_result"
    }
   ],
   "source": [
    "model.predict_output_word(['fake', 'upset', 'disappointing', 'badly', 'awful'])"
   ]
  },
  {
   "cell_type": "code",
   "execution_count": 24,
   "id": "8ed264d4",
   "metadata": {},
   "outputs": [
    {
     "data": {
      "text/plain": [
       "'sea'"
      ]
     },
     "execution_count": 24,
     "metadata": {},
     "output_type": "execute_result"
    }
   ],
   "source": [
    "model.wv.doesnt_match(['fire', 'water', 'land', 'sea', 'air', 'car'])"
   ]
  },
  {
   "cell_type": "code",
   "execution_count": 25,
   "id": "2c6acecb",
   "metadata": {},
   "outputs": [
    {
     "data": {
      "text/plain": [
       "0.0"
      ]
     },
     "execution_count": 25,
     "metadata": {},
     "output_type": "execute_result"
    }
   ],
   "source": [
    "model.get_latest_training_loss()"
   ]
  },
  {
   "cell_type": "code",
   "execution_count": 26,
   "id": "7fb239fd",
   "metadata": {},
   "outputs": [
    {
     "data": {
      "text/plain": [
       "[('decent', 0.8385686874389648),\n",
       " ('great', 0.7772062420845032),\n",
       " ('nice', 0.6898660063743591),\n",
       " ('fantastic', 0.6896514296531677),\n",
       " ('excellent', 0.6503046751022339),\n",
       " ('superb', 0.635495126247406),\n",
       " ('exceptional', 0.613059937953949),\n",
       " ('outstanding', 0.609527587890625),\n",
       " ('bad', 0.5997706055641174),\n",
       " ('awesome', 0.5946791172027588)]"
      ]
     },
     "execution_count": 26,
     "metadata": {},
     "output_type": "execute_result"
    }
   ],
   "source": [
    "model.wv.most_similar('good')"
   ]
  },
  {
   "cell_type": "code",
   "execution_count": 27,
   "id": "8fa3062e",
   "metadata": {},
   "outputs": [
    {
     "data": {
      "text/plain": [
       "'button'"
      ]
     },
     "execution_count": 27,
     "metadata": {},
     "output_type": "execute_result"
    }
   ],
   "source": [
    "model.wv.doesnt_match(['good', 'decent', 'great', 'nice', 'fantastic', 'button', 'excellent'])"
   ]
  },
  {
   "cell_type": "code",
   "execution_count": 31,
   "id": "fc0a92ba",
   "metadata": {},
   "outputs": [
    {
     "data": {
      "text/plain": [
       "'sad'"
      ]
     },
     "execution_count": 31,
     "metadata": {},
     "output_type": "execute_result"
    }
   ],
   "source": [
    "model.wv.doesnt_match(['good', 'decent', 'great', 'nice', 'fantastic', 'awesome', 'sad', 'excellent'])"
   ]
  },
  {
   "cell_type": "code",
   "execution_count": null,
   "id": "ad5638a2",
   "metadata": {},
   "outputs": [],
   "source": []
  }
 ],
 "metadata": {
  "kernelspec": {
   "display_name": "Python 3 (ipykernel)",
   "language": "python",
   "name": "python3"
  },
  "language_info": {
   "codemirror_mode": {
    "name": "ipython",
    "version": 3
   },
   "file_extension": ".py",
   "mimetype": "text/x-python",
   "name": "python",
   "nbconvert_exporter": "python",
   "pygments_lexer": "ipython3",
   "version": "3.11.4"
  }
 },
 "nbformat": 4,
 "nbformat_minor": 5
}
