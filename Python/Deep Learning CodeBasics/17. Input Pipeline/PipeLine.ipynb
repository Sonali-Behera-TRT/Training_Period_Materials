{
 "cells": [
  {
   "cell_type": "code",
   "execution_count": 1,
   "id": "e2154219",
   "metadata": {},
   "outputs": [],
   "source": [
    "import tensorflow as tf\n",
    "import numpy as np\n",
    "import os"
   ]
  },
  {
   "cell_type": "code",
   "execution_count": 70,
   "id": "e99c57c0",
   "metadata": {},
   "outputs": [],
   "source": [
    "from simple_image_download import simple_image_download as simp\n",
    "import os"
   ]
  },
  {
   "cell_type": "code",
   "execution_count": 3,
   "id": "fd93c590",
   "metadata": {},
   "outputs": [],
   "source": [
    "response = simp.simple_image_download\n",
    "keywords = ['cat', 'dog']"
   ]
  },
  {
   "cell_type": "code",
   "execution_count": 4,
   "id": "142c4829",
   "metadata": {},
   "outputs": [
    {
     "name": "stderr",
     "output_type": "stream",
     "text": [
      "[========================================================================] 100%\n",
      "[========================================================================] 100%\n"
     ]
    }
   ],
   "source": [
    "for item in keywords:\n",
    "    response().download(item, 100)"
   ]
  },
  {
   "cell_type": "code",
   "execution_count": 16,
   "id": "c14ae6fa",
   "metadata": {},
   "outputs": [],
   "source": [
    "daily_sales_numbers = [21, 22, -108, 31, -1, 32, 34,31]"
   ]
  },
  {
   "cell_type": "code",
   "execution_count": 17,
   "id": "d1347645",
   "metadata": {},
   "outputs": [
    {
     "data": {
      "text/plain": [
       "<_TensorSliceDataset element_spec=TensorSpec(shape=(), dtype=tf.int32, name=None)>"
      ]
     },
     "execution_count": 17,
     "metadata": {},
     "output_type": "execute_result"
    }
   ],
   "source": [
    "tf_dataset = tf.data.Dataset.from_tensor_slices(daily_sales_numbers)\n",
    "tf_dataset"
   ]
  },
  {
   "cell_type": "code",
   "execution_count": 18,
   "id": "6c69d28d",
   "metadata": {},
   "outputs": [
    {
     "data": {
      "text/plain": [
       "[<tf.Tensor: shape=(), dtype=int32, numpy=21>,\n",
       " <tf.Tensor: shape=(), dtype=int32, numpy=22>,\n",
       " <tf.Tensor: shape=(), dtype=int32, numpy=-108>,\n",
       " <tf.Tensor: shape=(), dtype=int32, numpy=31>,\n",
       " <tf.Tensor: shape=(), dtype=int32, numpy=-1>,\n",
       " <tf.Tensor: shape=(), dtype=int32, numpy=32>,\n",
       " <tf.Tensor: shape=(), dtype=int32, numpy=34>,\n",
       " <tf.Tensor: shape=(), dtype=int32, numpy=31>]"
      ]
     },
     "execution_count": 18,
     "metadata": {},
     "output_type": "execute_result"
    }
   ],
   "source": [
    "list(tf_dataset)"
   ]
  },
  {
   "cell_type": "code",
   "execution_count": 19,
   "id": "2a4b9fb9",
   "metadata": {},
   "outputs": [
    {
     "name": "stdout",
     "output_type": "stream",
     "text": [
      "21\n",
      "22\n",
      "-108\n",
      "31\n",
      "-1\n",
      "32\n",
      "34\n",
      "31\n"
     ]
    }
   ],
   "source": [
    "for item in tf_dataset.as_numpy_iterator():\n",
    "    print(item)"
   ]
  },
  {
   "cell_type": "code",
   "execution_count": 20,
   "id": "9f72bb30",
   "metadata": {},
   "outputs": [
    {
     "data": {
      "text/plain": [
       "<_FilterDataset element_spec=TensorSpec(shape=(), dtype=tf.int32, name=None)>"
      ]
     },
     "execution_count": 20,
     "metadata": {},
     "output_type": "execute_result"
    }
   ],
   "source": [
    "tf_dataset = tf_dataset.filter(lambda x: x > 0)\n",
    "tf_dataset"
   ]
  },
  {
   "cell_type": "code",
   "execution_count": 21,
   "id": "5c18d933",
   "metadata": {},
   "outputs": [
    {
     "data": {
      "text/plain": [
       "[<tf.Tensor: shape=(), dtype=int32, numpy=21>,\n",
       " <tf.Tensor: shape=(), dtype=int32, numpy=22>,\n",
       " <tf.Tensor: shape=(), dtype=int32, numpy=31>,\n",
       " <tf.Tensor: shape=(), dtype=int32, numpy=32>,\n",
       " <tf.Tensor: shape=(), dtype=int32, numpy=34>,\n",
       " <tf.Tensor: shape=(), dtype=int32, numpy=31>]"
      ]
     },
     "execution_count": 21,
     "metadata": {},
     "output_type": "execute_result"
    }
   ],
   "source": [
    "list(tf_dataset)"
   ]
  },
  {
   "cell_type": "code",
   "execution_count": 22,
   "id": "4f43255f",
   "metadata": {},
   "outputs": [
    {
     "name": "stdout",
     "output_type": "stream",
     "text": [
      "21\n",
      "22\n",
      "31\n",
      "32\n",
      "34\n",
      "31\n"
     ]
    }
   ],
   "source": [
    "for i in tf_dataset:\n",
    "    print(i.numpy())"
   ]
  },
  {
   "cell_type": "code",
   "execution_count": 23,
   "id": "7f7d4cb9",
   "metadata": {},
   "outputs": [
    {
     "data": {
      "text/plain": [
       "[<tf.Tensor: shape=(), dtype=int32, numpy=22>,\n",
       " <tf.Tensor: shape=(), dtype=int32, numpy=31>,\n",
       " <tf.Tensor: shape=(), dtype=int32, numpy=34>,\n",
       " <tf.Tensor: shape=(), dtype=int32, numpy=32>,\n",
       " <tf.Tensor: shape=(), dtype=int32, numpy=31>,\n",
       " <tf.Tensor: shape=(), dtype=int32, numpy=21>]"
      ]
     },
     "execution_count": 23,
     "metadata": {},
     "output_type": "execute_result"
    }
   ],
   "source": [
    "tf_dataset = tf_dataset.shuffle(3)\n",
    "list(tf_dataset)"
   ]
  },
  {
   "cell_type": "code",
   "execution_count": 24,
   "id": "08ed9c32",
   "metadata": {},
   "outputs": [
    {
     "data": {
      "text/plain": [
       "[<tf.Tensor: shape=(), dtype=int32, numpy=1584>,\n",
       " <tf.Tensor: shape=(), dtype=int32, numpy=2304>,\n",
       " <tf.Tensor: shape=(), dtype=int32, numpy=1512>,\n",
       " <tf.Tensor: shape=(), dtype=int32, numpy=2232>,\n",
       " <tf.Tensor: shape=(), dtype=int32, numpy=2232>,\n",
       " <tf.Tensor: shape=(), dtype=int32, numpy=2448>]"
      ]
     },
     "execution_count": 24,
     "metadata": {},
     "output_type": "execute_result"
    }
   ],
   "source": [
    "tf_dataset = tf_dataset.map(lambda x: x * 72)\n",
    "list(tf_dataset)"
   ]
  },
  {
   "cell_type": "code",
   "execution_count": 25,
   "id": "c5723569",
   "metadata": {},
   "outputs": [
    {
     "data": {
      "text/plain": [
       "[<tf.Tensor: shape=(), dtype=int32, numpy=2232>,\n",
       " <tf.Tensor: shape=(), dtype=int32, numpy=1512>]"
      ]
     },
     "execution_count": 25,
     "metadata": {},
     "output_type": "execute_result"
    }
   ],
   "source": [
    "list(tf_dataset.take(2))"
   ]
  },
  {
   "cell_type": "code",
   "execution_count": 26,
   "id": "06a51c2a",
   "metadata": {},
   "outputs": [
    {
     "data": {
      "text/plain": [
       "[<tf.Tensor: shape=(2,), dtype=int32, numpy=array([2232, 2304])>,\n",
       " <tf.Tensor: shape=(2,), dtype=int32, numpy=array([2448, 1584])>,\n",
       " <tf.Tensor: shape=(2,), dtype=int32, numpy=array([2232, 1512])>]"
      ]
     },
     "execution_count": 26,
     "metadata": {},
     "output_type": "execute_result"
    }
   ],
   "source": [
    "list(tf_dataset.batch(2))"
   ]
  },
  {
   "cell_type": "code",
   "execution_count": 27,
   "id": "b979ddfa",
   "metadata": {},
   "outputs": [],
   "source": [
    "daily_sales_numbers = [21, 22, -108, 31, -1, 32, 34,31]"
   ]
  },
  {
   "cell_type": "markdown",
   "id": "fd754bd0",
   "metadata": {},
   "source": [
    "## Perform in One Shot"
   ]
  },
  {
   "cell_type": "code",
   "execution_count": 28,
   "id": "61045668",
   "metadata": {},
   "outputs": [],
   "source": [
    "dataset_in_one_shot = tf.data.Dataset.from_tensor_slices(daily_sales_numbers).filter(lambda x: x > 0).map(lambda y: y * 72).shuffle(3).batch(2)"
   ]
  },
  {
   "cell_type": "code",
   "execution_count": 29,
   "id": "73b64b22",
   "metadata": {},
   "outputs": [
    {
     "data": {
      "text/plain": [
       "[<tf.Tensor: shape=(2,), dtype=int32, numpy=array([1512, 1584])>,\n",
       " <tf.Tensor: shape=(2,), dtype=int32, numpy=array([2304, 2232])>,\n",
       " <tf.Tensor: shape=(2,), dtype=int32, numpy=array([2232, 2448])>]"
      ]
     },
     "execution_count": 29,
     "metadata": {},
     "output_type": "execute_result"
    }
   ],
   "source": [
    "list(dataset_in_one_shot)"
   ]
  },
  {
   "cell_type": "markdown",
   "id": "965be2ec",
   "metadata": {},
   "source": [
    "## Image Dataset"
   ]
  },
  {
   "cell_type": "code",
   "execution_count": 38,
   "id": "6b454b2c",
   "metadata": {},
   "outputs": [
    {
     "data": {
      "text/plain": [
       "[<tf.Tensor: shape=(), dtype=string, numpy=b'.\\\\images\\\\dog'>,\n",
       " <tf.Tensor: shape=(), dtype=string, numpy=b'.\\\\.ipynb_checkpoints\\\\PipeLine-checkpoint.ipynb'>,\n",
       " <tf.Tensor: shape=(), dtype=string, numpy=b'.\\\\images\\\\cat'>]"
      ]
     },
     "execution_count": 38,
     "metadata": {},
     "output_type": "execute_result"
    }
   ],
   "source": [
    "list(tf.data.Dataset.list_files('*/*'))"
   ]
  },
  {
   "cell_type": "code",
   "execution_count": 39,
   "id": "d3f8c68b",
   "metadata": {},
   "outputs": [
    {
     "data": {
      "text/plain": [
       "190"
      ]
     },
     "execution_count": 39,
     "metadata": {},
     "output_type": "execute_result"
    }
   ],
   "source": [
    "img_dataset = tf.data.Dataset.list_files('images/*/*')\n",
    "len(img_dataset)"
   ]
  },
  {
   "cell_type": "code",
   "execution_count": 76,
   "id": "08de6f78",
   "metadata": {},
   "outputs": [],
   "source": [
    "img_dataset = img_dataset.shuffle(200)"
   ]
  },
  {
   "cell_type": "code",
   "execution_count": 77,
   "id": "ef1c3f45",
   "metadata": {},
   "outputs": [
    {
     "data": {
      "text/plain": [
       "[<tf.Tensor: shape=(), dtype=string, numpy=b'images\\\\cat\\\\cat_63.jpeg'>,\n",
       " <tf.Tensor: shape=(), dtype=string, numpy=b'images\\\\cat\\\\cat_83.jpeg'>,\n",
       " <tf.Tensor: shape=(), dtype=string, numpy=b'images\\\\dog\\\\dog_29.jpeg'>,\n",
       " <tf.Tensor: shape=(), dtype=string, numpy=b'images\\\\cat\\\\cat_77.jpeg'>,\n",
       " <tf.Tensor: shape=(), dtype=string, numpy=b'images\\\\cat\\\\cat_7.jpeg'>,\n",
       " <tf.Tensor: shape=(), dtype=string, numpy=b'images\\\\cat\\\\cat_18.jpeg'>,\n",
       " <tf.Tensor: shape=(), dtype=string, numpy=b'images\\\\cat\\\\cat_72.jpeg'>,\n",
       " <tf.Tensor: shape=(), dtype=string, numpy=b'images\\\\cat\\\\cat_84.jpeg'>,\n",
       " <tf.Tensor: shape=(), dtype=string, numpy=b'images\\\\dog\\\\dog_3.jpeg'>,\n",
       " <tf.Tensor: shape=(), dtype=string, numpy=b'images\\\\dog\\\\dog_38.jpeg'>]"
      ]
     },
     "execution_count": 77,
     "metadata": {},
     "output_type": "execute_result"
    }
   ],
   "source": [
    "list(img_dataset.take(10))"
   ]
  },
  {
   "cell_type": "code",
   "execution_count": 87,
   "id": "2fae9fbb",
   "metadata": {},
   "outputs": [],
   "source": [
    "def get_labels(path):\n",
    "    return tf.strings.split(path, os.path.sep)[-2]"
   ]
  },
  {
   "cell_type": "code",
   "execution_count": 88,
   "id": "d58751be",
   "metadata": {},
   "outputs": [
    {
     "name": "stdout",
     "output_type": "stream",
     "text": [
      "tf.Tensor(b'cat', shape=(), dtype=string)\n",
      "tf.Tensor(b'cat', shape=(), dtype=string)\n",
      "tf.Tensor(b'dog', shape=(), dtype=string)\n",
      "tf.Tensor(b'cat', shape=(), dtype=string)\n",
      "tf.Tensor(b'dog', shape=(), dtype=string)\n",
      "tf.Tensor(b'dog', shape=(), dtype=string)\n",
      "tf.Tensor(b'cat', shape=(), dtype=string)\n",
      "tf.Tensor(b'dog', shape=(), dtype=string)\n",
      "tf.Tensor(b'cat', shape=(), dtype=string)\n",
      "tf.Tensor(b'cat', shape=(), dtype=string)\n"
     ]
    }
   ],
   "source": [
    "for item in img_dataset.take(10).as_numpy_iterator():\n",
    "    print(get_labels(item))"
   ]
  },
  {
   "cell_type": "code",
   "execution_count": 71,
   "id": "12e92460",
   "metadata": {},
   "outputs": [
    {
     "data": {
      "text/plain": [
       "'\\\\'"
      ]
     },
     "execution_count": 71,
     "metadata": {},
     "output_type": "execute_result"
    }
   ],
   "source": [
    "os.path.sep"
   ]
  },
  {
   "cell_type": "code",
   "execution_count": null,
   "id": "925e57c9",
   "metadata": {},
   "outputs": [],
   "source": []
  },
  {
   "cell_type": "code",
   "execution_count": 96,
   "id": "448ca0dd",
   "metadata": {},
   "outputs": [],
   "source": [
    "def process_image(path):\n",
    "    label = get_labels(path)\n",
    "    img = tf.io.read_file(path)\n",
    "    img = tf.image.decode_jpeg(img)\n",
    "    img = tf.image.resize(img, (128, 128))\n",
    "    return img, label"
   ]
  },
  {
   "cell_type": "code",
   "execution_count": 99,
   "id": "0f33a51a",
   "metadata": {},
   "outputs": [
    {
     "name": "stdout",
     "output_type": "stream",
     "text": [
      "[175.3789    75.83594   12.902344]\n",
      "b'dog'\n",
      "[2.3125 8.3125 6.3125]\n",
      "b'cat'\n"
     ]
    }
   ],
   "source": [
    "for item in img_dataset.take(2):\n",
    "    img, label = process_image(item)\n",
    "    print(img[0][0].numpy())\n",
    "    print(label.numpy())"
   ]
  },
  {
   "cell_type": "code",
   "execution_count": 100,
   "id": "a9a15389",
   "metadata": {},
   "outputs": [
    {
     "data": {
      "text/plain": [
       "[<tf.Tensor: shape=(), dtype=string, numpy=b'images\\\\cat\\\\cat_46.jpeg'>,\n",
       " <tf.Tensor: shape=(), dtype=string, numpy=b'images\\\\cat\\\\cat_81.jpeg'>,\n",
       " <tf.Tensor: shape=(), dtype=string, numpy=b'images\\\\dog\\\\dog_9.jpeg'>,\n",
       " <tf.Tensor: shape=(), dtype=string, numpy=b'images\\\\dog\\\\dog_61.jpeg'>,\n",
       " <tf.Tensor: shape=(), dtype=string, numpy=b'images\\\\cat\\\\cat_72.jpeg'>,\n",
       " <tf.Tensor: shape=(), dtype=string, numpy=b'images\\\\dog\\\\dog_6.jpeg'>,\n",
       " <tf.Tensor: shape=(), dtype=string, numpy=b'images\\\\dog\\\\dog_15.jpeg'>,\n",
       " <tf.Tensor: shape=(), dtype=string, numpy=b'images\\\\cat\\\\cat_5.jpeg'>,\n",
       " <tf.Tensor: shape=(), dtype=string, numpy=b'images\\\\cat\\\\cat_59.jpeg'>,\n",
       " <tf.Tensor: shape=(), dtype=string, numpy=b'images\\\\dog\\\\dog_21.jpeg'>,\n",
       " <tf.Tensor: shape=(), dtype=string, numpy=b'images\\\\cat\\\\cat_50.jpeg'>,\n",
       " <tf.Tensor: shape=(), dtype=string, numpy=b'images\\\\cat\\\\cat_27.jpeg'>,\n",
       " <tf.Tensor: shape=(), dtype=string, numpy=b'images\\\\cat\\\\cat_4.jpeg'>,\n",
       " <tf.Tensor: shape=(), dtype=string, numpy=b'images\\\\dog\\\\dog_65.jpeg'>,\n",
       " <tf.Tensor: shape=(), dtype=string, numpy=b'images\\\\dog\\\\dog_40.jpeg'>,\n",
       " <tf.Tensor: shape=(), dtype=string, numpy=b'images\\\\cat\\\\cat_76.jpeg'>,\n",
       " <tf.Tensor: shape=(), dtype=string, numpy=b'images\\\\cat\\\\cat_78.jpeg'>,\n",
       " <tf.Tensor: shape=(), dtype=string, numpy=b'images\\\\dog\\\\dog_92.jpeg'>,\n",
       " <tf.Tensor: shape=(), dtype=string, numpy=b'images\\\\dog\\\\dog_60.jpeg'>,\n",
       " <tf.Tensor: shape=(), dtype=string, numpy=b'images\\\\dog\\\\dog_42.jpeg'>,\n",
       " <tf.Tensor: shape=(), dtype=string, numpy=b'images\\\\dog\\\\dog_55.jpeg'>,\n",
       " <tf.Tensor: shape=(), dtype=string, numpy=b'images\\\\cat\\\\cat_3.jpeg'>,\n",
       " <tf.Tensor: shape=(), dtype=string, numpy=b'images\\\\dog\\\\dog_33.jpeg'>,\n",
       " <tf.Tensor: shape=(), dtype=string, numpy=b'images\\\\dog\\\\dog_18.jpeg'>,\n",
       " <tf.Tensor: shape=(), dtype=string, numpy=b'images\\\\cat\\\\cat_47.jpeg'>,\n",
       " <tf.Tensor: shape=(), dtype=string, numpy=b'images\\\\cat\\\\cat_45.jpeg'>,\n",
       " <tf.Tensor: shape=(), dtype=string, numpy=b'images\\\\cat\\\\cat_62.jpeg'>,\n",
       " <tf.Tensor: shape=(), dtype=string, numpy=b'images\\\\cat\\\\cat_31.jpeg'>,\n",
       " <tf.Tensor: shape=(), dtype=string, numpy=b'images\\\\dog\\\\dog_54.jpeg'>,\n",
       " <tf.Tensor: shape=(), dtype=string, numpy=b'images\\\\dog\\\\dog_98.jpeg'>,\n",
       " <tf.Tensor: shape=(), dtype=string, numpy=b'images\\\\dog\\\\dog_53.jpeg'>,\n",
       " <tf.Tensor: shape=(), dtype=string, numpy=b'images\\\\dog\\\\dog_37.jpeg'>,\n",
       " <tf.Tensor: shape=(), dtype=string, numpy=b'images\\\\cat\\\\cat_26.jpeg'>,\n",
       " <tf.Tensor: shape=(), dtype=string, numpy=b'images\\\\dog\\\\dog_95.jpeg'>,\n",
       " <tf.Tensor: shape=(), dtype=string, numpy=b'images\\\\cat\\\\cat_67.jpeg'>,\n",
       " <tf.Tensor: shape=(), dtype=string, numpy=b'images\\\\dog\\\\dog_56.jpeg'>,\n",
       " <tf.Tensor: shape=(), dtype=string, numpy=b'images\\\\dog\\\\dog_7.jpeg'>,\n",
       " <tf.Tensor: shape=(), dtype=string, numpy=b'images\\\\dog\\\\dog_38.jpeg'>,\n",
       " <tf.Tensor: shape=(), dtype=string, numpy=b'images\\\\dog\\\\dog_14.jpeg'>,\n",
       " <tf.Tensor: shape=(), dtype=string, numpy=b'images\\\\cat\\\\cat_7.jpeg'>,\n",
       " <tf.Tensor: shape=(), dtype=string, numpy=b'images\\\\cat\\\\cat_75.jpeg'>,\n",
       " <tf.Tensor: shape=(), dtype=string, numpy=b'images\\\\dog\\\\dog_11.jpeg'>,\n",
       " <tf.Tensor: shape=(), dtype=string, numpy=b'images\\\\cat\\\\cat_58.jpeg'>,\n",
       " <tf.Tensor: shape=(), dtype=string, numpy=b'images\\\\dog\\\\dog_69.jpeg'>,\n",
       " <tf.Tensor: shape=(), dtype=string, numpy=b'images\\\\dog\\\\dog_26.jpeg'>,\n",
       " <tf.Tensor: shape=(), dtype=string, numpy=b'images\\\\dog\\\\dog_50.jpeg'>,\n",
       " <tf.Tensor: shape=(), dtype=string, numpy=b'images\\\\dog\\\\dog_31.jpeg'>,\n",
       " <tf.Tensor: shape=(), dtype=string, numpy=b'images\\\\cat\\\\cat_80.jpeg'>,\n",
       " <tf.Tensor: shape=(), dtype=string, numpy=b'images\\\\dog\\\\dog_76.jpeg'>,\n",
       " <tf.Tensor: shape=(), dtype=string, numpy=b'images\\\\dog\\\\dog_22.jpeg'>,\n",
       " <tf.Tensor: shape=(), dtype=string, numpy=b'images\\\\cat\\\\cat_83.jpeg'>,\n",
       " <tf.Tensor: shape=(), dtype=string, numpy=b'images\\\\dog\\\\dog_30.jpeg'>,\n",
       " <tf.Tensor: shape=(), dtype=string, numpy=b'images\\\\cat\\\\cat_96.jpeg'>,\n",
       " <tf.Tensor: shape=(), dtype=string, numpy=b'images\\\\cat\\\\cat_36.jpeg'>,\n",
       " <tf.Tensor: shape=(), dtype=string, numpy=b'images\\\\dog\\\\dog_93.jpeg'>,\n",
       " <tf.Tensor: shape=(), dtype=string, numpy=b'images\\\\cat\\\\cat_13.jpeg'>,\n",
       " <tf.Tensor: shape=(), dtype=string, numpy=b'images\\\\cat\\\\cat_52.jpeg'>,\n",
       " <tf.Tensor: shape=(), dtype=string, numpy=b'images\\\\cat\\\\cat_54.jpeg'>,\n",
       " <tf.Tensor: shape=(), dtype=string, numpy=b'images\\\\dog\\\\dog_34.jpeg'>,\n",
       " <tf.Tensor: shape=(), dtype=string, numpy=b'images\\\\dog\\\\dog_99.jpeg'>,\n",
       " <tf.Tensor: shape=(), dtype=string, numpy=b'images\\\\dog\\\\dog_78.jpeg'>,\n",
       " <tf.Tensor: shape=(), dtype=string, numpy=b'images\\\\cat\\\\cat_68.jpeg'>,\n",
       " <tf.Tensor: shape=(), dtype=string, numpy=b'images\\\\dog\\\\dog_19.jpeg'>,\n",
       " <tf.Tensor: shape=(), dtype=string, numpy=b'images\\\\dog\\\\dog_81.png'>,\n",
       " <tf.Tensor: shape=(), dtype=string, numpy=b'images\\\\dog\\\\dog_84.jpeg'>,\n",
       " <tf.Tensor: shape=(), dtype=string, numpy=b'images\\\\dog\\\\dog_48.jpeg'>,\n",
       " <tf.Tensor: shape=(), dtype=string, numpy=b'images\\\\cat\\\\cat_30.jpeg'>,\n",
       " <tf.Tensor: shape=(), dtype=string, numpy=b'images\\\\cat\\\\cat_9.png'>,\n",
       " <tf.Tensor: shape=(), dtype=string, numpy=b'images\\\\dog\\\\dog_87.jpeg'>,\n",
       " <tf.Tensor: shape=(), dtype=string, numpy=b'images\\\\dog\\\\dog_82.jpeg'>,\n",
       " <tf.Tensor: shape=(), dtype=string, numpy=b'images\\\\cat\\\\cat_23.jpeg'>,\n",
       " <tf.Tensor: shape=(), dtype=string, numpy=b'images\\\\dog\\\\dog_5.jpeg'>,\n",
       " <tf.Tensor: shape=(), dtype=string, numpy=b'images\\\\cat\\\\cat_74.jpeg'>,\n",
       " <tf.Tensor: shape=(), dtype=string, numpy=b'images\\\\cat\\\\cat_100.jpeg'>,\n",
       " <tf.Tensor: shape=(), dtype=string, numpy=b'images\\\\cat\\\\cat_98.jpeg'>,\n",
       " <tf.Tensor: shape=(), dtype=string, numpy=b'images\\\\cat\\\\cat_69.jpeg'>,\n",
       " <tf.Tensor: shape=(), dtype=string, numpy=b'images\\\\dog\\\\dog_90.jpeg'>,\n",
       " <tf.Tensor: shape=(), dtype=string, numpy=b'images\\\\cat\\\\cat_42.jpeg'>,\n",
       " <tf.Tensor: shape=(), dtype=string, numpy=b'images\\\\cat\\\\cat_20.jpeg'>,\n",
       " <tf.Tensor: shape=(), dtype=string, numpy=b'images\\\\dog\\\\dog_94.jpeg'>,\n",
       " <tf.Tensor: shape=(), dtype=string, numpy=b'images\\\\cat\\\\cat_38.jpeg'>,\n",
       " <tf.Tensor: shape=(), dtype=string, numpy=b'images\\\\dog\\\\dog_73.jpeg'>,\n",
       " <tf.Tensor: shape=(), dtype=string, numpy=b'images\\\\dog\\\\dog_24.png'>,\n",
       " <tf.Tensor: shape=(), dtype=string, numpy=b'images\\\\dog\\\\dog_41.jpeg'>,\n",
       " <tf.Tensor: shape=(), dtype=string, numpy=b'images\\\\cat\\\\cat_91.jpeg'>,\n",
       " <tf.Tensor: shape=(), dtype=string, numpy=b'images\\\\dog\\\\dog_13.jpeg'>,\n",
       " <tf.Tensor: shape=(), dtype=string, numpy=b'images\\\\cat\\\\cat_29.jpeg'>,\n",
       " <tf.Tensor: shape=(), dtype=string, numpy=b'images\\\\dog\\\\dog_49.jpeg'>,\n",
       " <tf.Tensor: shape=(), dtype=string, numpy=b'images\\\\dog\\\\dog_86.jpeg'>,\n",
       " <tf.Tensor: shape=(), dtype=string, numpy=b'images\\\\dog\\\\dog_23.jpeg'>,\n",
       " <tf.Tensor: shape=(), dtype=string, numpy=b'images\\\\cat\\\\cat_95.png'>,\n",
       " <tf.Tensor: shape=(), dtype=string, numpy=b'images\\\\cat\\\\cat_6.jpeg'>,\n",
       " <tf.Tensor: shape=(), dtype=string, numpy=b'images\\\\dog\\\\dog_89.jpeg'>,\n",
       " <tf.Tensor: shape=(), dtype=string, numpy=b'images\\\\cat\\\\cat_34.jpeg'>,\n",
       " <tf.Tensor: shape=(), dtype=string, numpy=b'images\\\\cat\\\\cat_15.jpeg'>,\n",
       " <tf.Tensor: shape=(), dtype=string, numpy=b'images\\\\dog\\\\dog_62.jpeg'>,\n",
       " <tf.Tensor: shape=(), dtype=string, numpy=b'images\\\\dog\\\\dog_57.jpeg'>,\n",
       " <tf.Tensor: shape=(), dtype=string, numpy=b'images\\\\dog\\\\dog_70.jpeg'>,\n",
       " <tf.Tensor: shape=(), dtype=string, numpy=b'images\\\\dog\\\\dog_67.jpeg'>,\n",
       " <tf.Tensor: shape=(), dtype=string, numpy=b'images\\\\cat\\\\cat_8.jpeg'>,\n",
       " <tf.Tensor: shape=(), dtype=string, numpy=b'images\\\\cat\\\\cat_99.jpeg'>,\n",
       " <tf.Tensor: shape=(), dtype=string, numpy=b'images\\\\dog\\\\dog_68.jpeg'>,\n",
       " <tf.Tensor: shape=(), dtype=string, numpy=b'images\\\\cat\\\\cat_85.jpeg'>,\n",
       " <tf.Tensor: shape=(), dtype=string, numpy=b'images\\\\cat\\\\cat_84.jpeg'>,\n",
       " <tf.Tensor: shape=(), dtype=string, numpy=b'images\\\\dog\\\\dog_74.jpeg'>,\n",
       " <tf.Tensor: shape=(), dtype=string, numpy=b'images\\\\cat\\\\cat_61.jpeg'>,\n",
       " <tf.Tensor: shape=(), dtype=string, numpy=b'images\\\\dog\\\\dog_32.jpeg'>,\n",
       " <tf.Tensor: shape=(), dtype=string, numpy=b'images\\\\cat\\\\cat_44.jpeg'>,\n",
       " <tf.Tensor: shape=(), dtype=string, numpy=b'images\\\\dog\\\\dog_51.jpeg'>,\n",
       " <tf.Tensor: shape=(), dtype=string, numpy=b'images\\\\dog\\\\dog_52.jpeg'>,\n",
       " <tf.Tensor: shape=(), dtype=string, numpy=b'images\\\\cat\\\\cat_22.jpeg'>,\n",
       " <tf.Tensor: shape=(), dtype=string, numpy=b'images\\\\cat\\\\cat_17.jpeg'>,\n",
       " <tf.Tensor: shape=(), dtype=string, numpy=b'images\\\\dog\\\\dog_71.jpeg'>,\n",
       " <tf.Tensor: shape=(), dtype=string, numpy=b'images\\\\cat\\\\cat_79.jpeg'>,\n",
       " <tf.Tensor: shape=(), dtype=string, numpy=b'images\\\\cat\\\\cat_73.jpeg'>,\n",
       " <tf.Tensor: shape=(), dtype=string, numpy=b'images\\\\cat\\\\cat_82.jpeg'>,\n",
       " <tf.Tensor: shape=(), dtype=string, numpy=b'images\\\\cat\\\\cat_71.jpeg'>,\n",
       " <tf.Tensor: shape=(), dtype=string, numpy=b'images\\\\dog\\\\dog_17.jpeg'>,\n",
       " <tf.Tensor: shape=(), dtype=string, numpy=b'images\\\\dog\\\\dog_39.jpeg'>,\n",
       " <tf.Tensor: shape=(), dtype=string, numpy=b'images\\\\cat\\\\cat_11.jpeg'>,\n",
       " <tf.Tensor: shape=(), dtype=string, numpy=b'images\\\\dog\\\\dog_77.png'>,\n",
       " <tf.Tensor: shape=(), dtype=string, numpy=b'images\\\\cat\\\\cat_87.jpeg'>,\n",
       " <tf.Tensor: shape=(), dtype=string, numpy=b'images\\\\dog\\\\dog_58.jpeg'>,\n",
       " <tf.Tensor: shape=(), dtype=string, numpy=b'images\\\\cat\\\\cat_19.jpeg'>,\n",
       " <tf.Tensor: shape=(), dtype=string, numpy=b'images\\\\cat\\\\cat_49.jpeg'>,\n",
       " <tf.Tensor: shape=(), dtype=string, numpy=b'images\\\\cat\\\\cat_33.jpeg'>,\n",
       " <tf.Tensor: shape=(), dtype=string, numpy=b'images\\\\dog\\\\dog_91.jpeg'>,\n",
       " <tf.Tensor: shape=(), dtype=string, numpy=b'images\\\\dog\\\\dog_8.jpeg'>,\n",
       " <tf.Tensor: shape=(), dtype=string, numpy=b'images\\\\cat\\\\cat_70.jpeg'>,\n",
       " <tf.Tensor: shape=(), dtype=string, numpy=b'images\\\\dog\\\\dog_97.jpeg'>,\n",
       " <tf.Tensor: shape=(), dtype=string, numpy=b'images\\\\cat\\\\cat_93.jpeg'>,\n",
       " <tf.Tensor: shape=(), dtype=string, numpy=b'images\\\\dog\\\\dog_63.jpeg'>,\n",
       " <tf.Tensor: shape=(), dtype=string, numpy=b'images\\\\cat\\\\cat_28.jpeg'>,\n",
       " <tf.Tensor: shape=(), dtype=string, numpy=b'images\\\\dog\\\\dog_16.jpeg'>,\n",
       " <tf.Tensor: shape=(), dtype=string, numpy=b'images\\\\dog\\\\dog_25.jpeg'>,\n",
       " <tf.Tensor: shape=(), dtype=string, numpy=b'images\\\\cat\\\\cat_41.jpeg'>,\n",
       " <tf.Tensor: shape=(), dtype=string, numpy=b'images\\\\dog\\\\dog_3.jpeg'>,\n",
       " <tf.Tensor: shape=(), dtype=string, numpy=b'images\\\\cat\\\\cat_63.jpeg'>,\n",
       " <tf.Tensor: shape=(), dtype=string, numpy=b'images\\\\cat\\\\cat_60.jpeg'>,\n",
       " <tf.Tensor: shape=(), dtype=string, numpy=b'images\\\\cat\\\\cat_16.jpeg'>,\n",
       " <tf.Tensor: shape=(), dtype=string, numpy=b'images\\\\cat\\\\cat_86.jpeg'>,\n",
       " <tf.Tensor: shape=(), dtype=string, numpy=b'images\\\\dog\\\\dog_83.jpeg'>,\n",
       " <tf.Tensor: shape=(), dtype=string, numpy=b'images\\\\cat\\\\cat_94.jpeg'>,\n",
       " <tf.Tensor: shape=(), dtype=string, numpy=b'images\\\\dog\\\\dog_75.jpeg'>,\n",
       " <tf.Tensor: shape=(), dtype=string, numpy=b'images\\\\dog\\\\dog_20.jpeg'>,\n",
       " <tf.Tensor: shape=(), dtype=string, numpy=b'images\\\\dog\\\\dog_28.jpeg'>,\n",
       " <tf.Tensor: shape=(), dtype=string, numpy=b'images\\\\cat\\\\cat_92.jpeg'>,\n",
       " <tf.Tensor: shape=(), dtype=string, numpy=b'images\\\\cat\\\\cat_25.jpeg'>,\n",
       " <tf.Tensor: shape=(), dtype=string, numpy=b'images\\\\cat\\\\cat_21.jpeg'>,\n",
       " <tf.Tensor: shape=(), dtype=string, numpy=b'images\\\\dog\\\\dog_80.jpeg'>,\n",
       " <tf.Tensor: shape=(), dtype=string, numpy=b'images\\\\cat\\\\cat_24.jpeg'>,\n",
       " <tf.Tensor: shape=(), dtype=string, numpy=b'images\\\\dog\\\\dog_46.jpeg'>,\n",
       " <tf.Tensor: shape=(), dtype=string, numpy=b'images\\\\cat\\\\cat_90.jpeg'>,\n",
       " <tf.Tensor: shape=(), dtype=string, numpy=b'images\\\\cat\\\\cat_77.jpeg'>,\n",
       " <tf.Tensor: shape=(), dtype=string, numpy=b'images\\\\cat\\\\cat_12.jpeg'>,\n",
       " <tf.Tensor: shape=(), dtype=string, numpy=b'images\\\\cat\\\\cat_88.jpeg'>,\n",
       " <tf.Tensor: shape=(), dtype=string, numpy=b'images\\\\dog\\\\dog_79.jpeg'>,\n",
       " <tf.Tensor: shape=(), dtype=string, numpy=b'images\\\\cat\\\\cat_65.jpeg'>,\n",
       " <tf.Tensor: shape=(), dtype=string, numpy=b'images\\\\cat\\\\cat_48.jpeg'>,\n",
       " <tf.Tensor: shape=(), dtype=string, numpy=b'images\\\\dog\\\\dog_100.jpeg'>,\n",
       " <tf.Tensor: shape=(), dtype=string, numpy=b'images\\\\dog\\\\dog_12.jpeg'>,\n",
       " <tf.Tensor: shape=(), dtype=string, numpy=b'images\\\\dog\\\\dog_29.jpeg'>,\n",
       " <tf.Tensor: shape=(), dtype=string, numpy=b'images\\\\dog\\\\dog_66.jpeg'>,\n",
       " <tf.Tensor: shape=(), dtype=string, numpy=b'images\\\\cat\\\\cat_14.jpeg'>,\n",
       " <tf.Tensor: shape=(), dtype=string, numpy=b'images\\\\cat\\\\cat_43.jpeg'>,\n",
       " <tf.Tensor: shape=(), dtype=string, numpy=b'images\\\\cat\\\\cat_35.jpeg'>,\n",
       " <tf.Tensor: shape=(), dtype=string, numpy=b'images\\\\cat\\\\cat_51.jpeg'>,\n",
       " <tf.Tensor: shape=(), dtype=string, numpy=b'images\\\\dog\\\\dog_35.jpeg'>,\n",
       " <tf.Tensor: shape=(), dtype=string, numpy=b'images\\\\dog\\\\dog_47.jpeg'>,\n",
       " <tf.Tensor: shape=(), dtype=string, numpy=b'images\\\\cat\\\\cat_64.jpeg'>,\n",
       " <tf.Tensor: shape=(), dtype=string, numpy=b'images\\\\dog\\\\dog_88.jpeg'>,\n",
       " <tf.Tensor: shape=(), dtype=string, numpy=b'images\\\\cat\\\\cat_40.jpeg'>,\n",
       " <tf.Tensor: shape=(), dtype=string, numpy=b'images\\\\cat\\\\cat_97.jpeg'>,\n",
       " <tf.Tensor: shape=(), dtype=string, numpy=b'images\\\\dog\\\\dog_27.jpeg'>,\n",
       " <tf.Tensor: shape=(), dtype=string, numpy=b'images\\\\cat\\\\cat_18.jpeg'>,\n",
       " <tf.Tensor: shape=(), dtype=string, numpy=b'images\\\\dog\\\\dog_59.jpeg'>,\n",
       " <tf.Tensor: shape=(), dtype=string, numpy=b'images\\\\dog\\\\dog_64.jpeg'>,\n",
       " <tf.Tensor: shape=(), dtype=string, numpy=b'images\\\\dog\\\\dog_4.jpeg'>,\n",
       " <tf.Tensor: shape=(), dtype=string, numpy=b'images\\\\dog\\\\dog_10.jpeg'>,\n",
       " <tf.Tensor: shape=(), dtype=string, numpy=b'images\\\\dog\\\\dog_36.jpeg'>,\n",
       " <tf.Tensor: shape=(), dtype=string, numpy=b'images\\\\cat\\\\cat_32.png'>,\n",
       " <tf.Tensor: shape=(), dtype=string, numpy=b'images\\\\dog\\\\dog_96.jpeg'>,\n",
       " <tf.Tensor: shape=(), dtype=string, numpy=b'images\\\\cat\\\\cat_10.jpeg'>,\n",
       " <tf.Tensor: shape=(), dtype=string, numpy=b'images\\\\dog\\\\dog_72.jpeg'>,\n",
       " <tf.Tensor: shape=(), dtype=string, numpy=b'images\\\\cat\\\\cat_37.jpeg'>,\n",
       " <tf.Tensor: shape=(), dtype=string, numpy=b'images\\\\cat\\\\cat_66.png'>,\n",
       " <tf.Tensor: shape=(), dtype=string, numpy=b'images\\\\cat\\\\cat_53.jpeg'>,\n",
       " <tf.Tensor: shape=(), dtype=string, numpy=b'images\\\\dog\\\\dog_85.jpeg'>,\n",
       " <tf.Tensor: shape=(), dtype=string, numpy=b'images\\\\cat\\\\cat_89.jpeg'>,\n",
       " <tf.Tensor: shape=(), dtype=string, numpy=b'images\\\\cat\\\\cat_39.jpeg'>]"
      ]
     },
     "execution_count": 100,
     "metadata": {},
     "output_type": "execute_result"
    }
   ],
   "source": [
    "list(img_dataset)"
   ]
  },
  {
   "cell_type": "code",
   "execution_count": 102,
   "id": "eb67b783",
   "metadata": {},
   "outputs": [],
   "source": [
    "temp = img_dataset.map(process_image)"
   ]
  },
  {
   "cell_type": "code",
   "execution_count": 107,
   "id": "78ead3f2",
   "metadata": {},
   "outputs": [
    {
     "data": {
      "text/plain": [
       "[(<tf.Tensor: shape=(128, 128, 3), dtype=float32, numpy=\n",
       "  array([[[235.21277, 237.21277, 234.21277],\n",
       "          [234.     , 235.     , 230.     ],\n",
       "          [236.     , 236.     , 234.     ],\n",
       "          ...,\n",
       "          [233.     , 237.     , 236.     ],\n",
       "          [233.     , 237.     , 236.     ],\n",
       "          [232.     , 238.     , 236.     ]],\n",
       "  \n",
       "         [[234.21875, 236.21875, 233.21875],\n",
       "          [235.     , 235.     , 233.     ],\n",
       "          [234.     , 234.     , 232.     ],\n",
       "          ...,\n",
       "          [232.     , 236.     , 235.     ],\n",
       "          [232.     , 238.     , 236.     ],\n",
       "          [232.     , 238.     , 236.     ]],\n",
       "  \n",
       "         [[234.     , 236.     , 233.     ],\n",
       "          [234.     , 234.     , 232.     ],\n",
       "          [235.     , 235.     , 233.     ],\n",
       "          ...,\n",
       "          [232.     , 236.     , 235.     ],\n",
       "          [231.     , 237.     , 235.     ],\n",
       "          [231.     , 237.     , 235.     ]],\n",
       "  \n",
       "         ...,\n",
       "  \n",
       "         [[125.     , 115.     , 105.     ],\n",
       "          [124.86328, 114.86328, 104.86328],\n",
       "          [126.     , 116.     , 106.     ],\n",
       "          ...,\n",
       "          [162.     , 167.     , 170.     ],\n",
       "          [162.     , 167.     , 170.     ],\n",
       "          [160.     , 165.     , 168.     ]],\n",
       "  \n",
       "         [[127.18286, 119.18286, 108.18286],\n",
       "          [128.91797, 118.91797, 108.91797],\n",
       "          [127.91797, 117.91797, 107.91797],\n",
       "          ...,\n",
       "          [163.     , 167.     , 170.     ],\n",
       "          [161.     , 166.     , 169.     ],\n",
       "          [160.21875, 165.     , 168.     ]],\n",
       "  \n",
       "         [[132.1914 , 124.19141, 113.19141],\n",
       "          [132.97266, 122.97266, 112.97266],\n",
       "          [130.97522, 122.97522, 111.97522],\n",
       "          ...,\n",
       "          [163.     , 167.     , 170.     ],\n",
       "          [160.     , 165.     , 168.     ],\n",
       "          [158.44348, 163.22473, 166.22473]]], dtype=float32)>,\n",
       "  <tf.Tensor: shape=(), dtype=string, numpy=b'cat'>)]"
      ]
     },
     "execution_count": 107,
     "metadata": {},
     "output_type": "execute_result"
    }
   ],
   "source": [
    "list(temp.take(1))"
   ]
  },
  {
   "cell_type": "code",
   "execution_count": 108,
   "id": "c835cf10",
   "metadata": {},
   "outputs": [
    {
     "data": {
      "text/plain": [
       "190"
      ]
     },
     "execution_count": 108,
     "metadata": {},
     "output_type": "execute_result"
    }
   ],
   "source": [
    "n = len(img_dataset)\n",
    "n"
   ]
  },
  {
   "cell_type": "code",
   "execution_count": 110,
   "id": "3bec54df",
   "metadata": {},
   "outputs": [
    {
     "data": {
      "text/plain": [
       "152"
      ]
     },
     "execution_count": 110,
     "metadata": {},
     "output_type": "execute_result"
    }
   ],
   "source": [
    "int(n * 0.8)"
   ]
  },
  {
   "cell_type": "code",
   "execution_count": 111,
   "id": "7f8cce72",
   "metadata": {},
   "outputs": [
    {
     "data": {
      "text/plain": [
       "38"
      ]
     },
     "execution_count": 111,
     "metadata": {},
     "output_type": "execute_result"
    }
   ],
   "source": [
    "n - 152"
   ]
  },
  {
   "cell_type": "code",
   "execution_count": 112,
   "id": "a3fd2e97",
   "metadata": {},
   "outputs": [
    {
     "data": {
      "text/plain": [
       "152"
      ]
     },
     "execution_count": 112,
     "metadata": {},
     "output_type": "execute_result"
    }
   ],
   "source": [
    "train_size = int(n * 0.8)\n",
    "train_size"
   ]
  },
  {
   "cell_type": "code",
   "execution_count": 113,
   "id": "a7126597",
   "metadata": {},
   "outputs": [],
   "source": [
    "train_dataset = img_dataset.take(train_size)\n",
    "test_dataset =  img_dataset.skip(train_size)"
   ]
  },
  {
   "cell_type": "code",
   "execution_count": 114,
   "id": "76676217",
   "metadata": {},
   "outputs": [
    {
     "data": {
      "text/plain": [
       "152"
      ]
     },
     "execution_count": 114,
     "metadata": {},
     "output_type": "execute_result"
    }
   ],
   "source": [
    "len(train_dataset)"
   ]
  },
  {
   "cell_type": "code",
   "execution_count": 115,
   "id": "cfb29dbb",
   "metadata": {},
   "outputs": [
    {
     "data": {
      "text/plain": [
       "38"
      ]
     },
     "execution_count": 115,
     "metadata": {},
     "output_type": "execute_result"
    }
   ],
   "source": [
    "len(test_dataset)"
   ]
  },
  {
   "cell_type": "code",
   "execution_count": null,
   "id": "7589d227",
   "metadata": {},
   "outputs": [],
   "source": []
  }
 ],
 "metadata": {
  "kernelspec": {
   "display_name": "Python 3 (ipykernel)",
   "language": "python",
   "name": "python3"
  },
  "language_info": {
   "codemirror_mode": {
    "name": "ipython",
    "version": 3
   },
   "file_extension": ".py",
   "mimetype": "text/x-python",
   "name": "python",
   "nbconvert_exporter": "python",
   "pygments_lexer": "ipython3",
   "version": "3.11.4"
  }
 },
 "nbformat": 4,
 "nbformat_minor": 5
}
