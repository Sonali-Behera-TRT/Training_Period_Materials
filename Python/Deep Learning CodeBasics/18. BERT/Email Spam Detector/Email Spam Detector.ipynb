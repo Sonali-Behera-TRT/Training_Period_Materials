{
 "cells": [
  {
   "cell_type": "code",
   "execution_count": 1,
   "id": "e9121dd2",
   "metadata": {},
   "outputs": [],
   "source": [
    "import tensorflow_hub as hub\n",
    "import tensorflow_text as text\n",
    "import pandas as pd"
   ]
  },
  {
   "cell_type": "code",
   "execution_count": 2,
   "id": "91c1d897",
   "metadata": {},
   "outputs": [
    {
     "data": {
      "text/html": [
       "<div>\n",
       "<style scoped>\n",
       "    .dataframe tbody tr th:only-of-type {\n",
       "        vertical-align: middle;\n",
       "    }\n",
       "\n",
       "    .dataframe tbody tr th {\n",
       "        vertical-align: top;\n",
       "    }\n",
       "\n",
       "    .dataframe thead th {\n",
       "        text-align: right;\n",
       "    }\n",
       "</style>\n",
       "<table border=\"1\" class=\"dataframe\">\n",
       "  <thead>\n",
       "    <tr style=\"text-align: right;\">\n",
       "      <th></th>\n",
       "      <th>Category</th>\n",
       "      <th>Message</th>\n",
       "    </tr>\n",
       "  </thead>\n",
       "  <tbody>\n",
       "    <tr>\n",
       "      <th>0</th>\n",
       "      <td>ham</td>\n",
       "      <td>Go until jurong point, crazy.. Available only ...</td>\n",
       "    </tr>\n",
       "    <tr>\n",
       "      <th>1</th>\n",
       "      <td>ham</td>\n",
       "      <td>Ok lar... Joking wif u oni...</td>\n",
       "    </tr>\n",
       "    <tr>\n",
       "      <th>2</th>\n",
       "      <td>spam</td>\n",
       "      <td>Free entry in 2 a wkly comp to win FA Cup fina...</td>\n",
       "    </tr>\n",
       "    <tr>\n",
       "      <th>3</th>\n",
       "      <td>ham</td>\n",
       "      <td>U dun say so early hor... U c already then say...</td>\n",
       "    </tr>\n",
       "    <tr>\n",
       "      <th>4</th>\n",
       "      <td>ham</td>\n",
       "      <td>Nah I don't think he goes to usf, he lives aro...</td>\n",
       "    </tr>\n",
       "  </tbody>\n",
       "</table>\n",
       "</div>"
      ],
      "text/plain": [
       "  Category                                            Message\n",
       "0      ham  Go until jurong point, crazy.. Available only ...\n",
       "1      ham                      Ok lar... Joking wif u oni...\n",
       "2     spam  Free entry in 2 a wkly comp to win FA Cup fina...\n",
       "3      ham  U dun say so early hor... U c already then say...\n",
       "4      ham  Nah I don't think he goes to usf, he lives aro..."
      ]
     },
     "execution_count": 2,
     "metadata": {},
     "output_type": "execute_result"
    }
   ],
   "source": [
    "df = pd.read_csv('./spam.csv')\n",
    "df.head()"
   ]
  },
  {
   "cell_type": "code",
   "execution_count": 4,
   "id": "65ef5d6a",
   "metadata": {},
   "outputs": [
    {
     "data": {
      "text/plain": [
       "ham     4825\n",
       "spam     747\n",
       "Name: Category, dtype: int64"
      ]
     },
     "execution_count": 4,
     "metadata": {},
     "output_type": "execute_result"
    }
   ],
   "source": [
    "df.Category.value_counts()"
   ]
  },
  {
   "cell_type": "code",
   "execution_count": 6,
   "id": "1ac10a87",
   "metadata": {},
   "outputs": [],
   "source": [
    "df['spam'] = df.Category.apply(lambda x: 1 if x == 'spam' else 0)"
   ]
  },
  {
   "cell_type": "code",
   "execution_count": 7,
   "id": "df5ff0f9",
   "metadata": {},
   "outputs": [
    {
     "data": {
      "text/html": [
       "<div>\n",
       "<style scoped>\n",
       "    .dataframe tbody tr th:only-of-type {\n",
       "        vertical-align: middle;\n",
       "    }\n",
       "\n",
       "    .dataframe tbody tr th {\n",
       "        vertical-align: top;\n",
       "    }\n",
       "\n",
       "    .dataframe thead th {\n",
       "        text-align: right;\n",
       "    }\n",
       "</style>\n",
       "<table border=\"1\" class=\"dataframe\">\n",
       "  <thead>\n",
       "    <tr style=\"text-align: right;\">\n",
       "      <th></th>\n",
       "      <th>Category</th>\n",
       "      <th>Message</th>\n",
       "      <th>spam</th>\n",
       "    </tr>\n",
       "  </thead>\n",
       "  <tbody>\n",
       "    <tr>\n",
       "      <th>0</th>\n",
       "      <td>ham</td>\n",
       "      <td>Go until jurong point, crazy.. Available only ...</td>\n",
       "      <td>0</td>\n",
       "    </tr>\n",
       "    <tr>\n",
       "      <th>1</th>\n",
       "      <td>ham</td>\n",
       "      <td>Ok lar... Joking wif u oni...</td>\n",
       "      <td>0</td>\n",
       "    </tr>\n",
       "    <tr>\n",
       "      <th>2</th>\n",
       "      <td>spam</td>\n",
       "      <td>Free entry in 2 a wkly comp to win FA Cup fina...</td>\n",
       "      <td>1</td>\n",
       "    </tr>\n",
       "    <tr>\n",
       "      <th>3</th>\n",
       "      <td>ham</td>\n",
       "      <td>U dun say so early hor... U c already then say...</td>\n",
       "      <td>0</td>\n",
       "    </tr>\n",
       "    <tr>\n",
       "      <th>4</th>\n",
       "      <td>ham</td>\n",
       "      <td>Nah I don't think he goes to usf, he lives aro...</td>\n",
       "      <td>0</td>\n",
       "    </tr>\n",
       "  </tbody>\n",
       "</table>\n",
       "</div>"
      ],
      "text/plain": [
       "  Category                                            Message  spam\n",
       "0      ham  Go until jurong point, crazy.. Available only ...     0\n",
       "1      ham                      Ok lar... Joking wif u oni...     0\n",
       "2     spam  Free entry in 2 a wkly comp to win FA Cup fina...     1\n",
       "3      ham  U dun say so early hor... U c already then say...     0\n",
       "4      ham  Nah I don't think he goes to usf, he lives aro...     0"
      ]
     },
     "execution_count": 7,
     "metadata": {},
     "output_type": "execute_result"
    }
   ],
   "source": [
    "df.head()"
   ]
  },
  {
   "cell_type": "code",
   "execution_count": 12,
   "id": "14df97e6",
   "metadata": {},
   "outputs": [],
   "source": [
    "df1 = df[df.spam == 1]\n",
    "df0 = df[df.spam == 0]"
   ]
  },
  {
   "cell_type": "code",
   "execution_count": 13,
   "id": "45ad427a",
   "metadata": {},
   "outputs": [
    {
     "data": {
      "text/plain": [
       "(747, 3)"
      ]
     },
     "execution_count": 13,
     "metadata": {},
     "output_type": "execute_result"
    }
   ],
   "source": [
    "df1.shape"
   ]
  },
  {
   "cell_type": "code",
   "execution_count": 14,
   "id": "3e541a6e",
   "metadata": {},
   "outputs": [
    {
     "data": {
      "text/plain": [
       "(4825, 3)"
      ]
     },
     "execution_count": 14,
     "metadata": {},
     "output_type": "execute_result"
    }
   ],
   "source": [
    "df0.shape"
   ]
  },
  {
   "cell_type": "code",
   "execution_count": 15,
   "id": "0563f221",
   "metadata": {},
   "outputs": [
    {
     "data": {
      "text/plain": [
       "(5572, 3)"
      ]
     },
     "execution_count": 15,
     "metadata": {},
     "output_type": "execute_result"
    }
   ],
   "source": [
    "df.shape"
   ]
  },
  {
   "cell_type": "code",
   "execution_count": 16,
   "id": "8ad96fe0",
   "metadata": {},
   "outputs": [],
   "source": [
    "df0_undersampled = df0.sample(df1.shape[0])"
   ]
  },
  {
   "cell_type": "code",
   "execution_count": 17,
   "id": "44bc2d9b",
   "metadata": {},
   "outputs": [
    {
     "data": {
      "text/plain": [
       "(747, 3)"
      ]
     },
     "execution_count": 17,
     "metadata": {},
     "output_type": "execute_result"
    }
   ],
   "source": [
    "df0_undersampled.shape"
   ]
  },
  {
   "cell_type": "code",
   "execution_count": 18,
   "id": "0a8f3a2f",
   "metadata": {},
   "outputs": [],
   "source": [
    "df_balanced = pd.concat([df0_undersampled, df1])"
   ]
  },
  {
   "cell_type": "code",
   "execution_count": 19,
   "id": "08c50ef5",
   "metadata": {},
   "outputs": [
    {
     "data": {
      "text/plain": [
       "(1494, 3)"
      ]
     },
     "execution_count": 19,
     "metadata": {},
     "output_type": "execute_result"
    }
   ],
   "source": [
    "df_balanced.shape"
   ]
  },
  {
   "cell_type": "code",
   "execution_count": 20,
   "id": "6e6ea067",
   "metadata": {},
   "outputs": [
    {
     "data": {
      "text/html": [
       "<div>\n",
       "<style scoped>\n",
       "    .dataframe tbody tr th:only-of-type {\n",
       "        vertical-align: middle;\n",
       "    }\n",
       "\n",
       "    .dataframe tbody tr th {\n",
       "        vertical-align: top;\n",
       "    }\n",
       "\n",
       "    .dataframe thead th {\n",
       "        text-align: right;\n",
       "    }\n",
       "</style>\n",
       "<table border=\"1\" class=\"dataframe\">\n",
       "  <thead>\n",
       "    <tr style=\"text-align: right;\">\n",
       "      <th></th>\n",
       "      <th>Category</th>\n",
       "      <th>Message</th>\n",
       "      <th>spam</th>\n",
       "    </tr>\n",
       "  </thead>\n",
       "  <tbody>\n",
       "    <tr>\n",
       "      <th>2147</th>\n",
       "      <td>ham</td>\n",
       "      <td>So can collect ur laptop?</td>\n",
       "      <td>0</td>\n",
       "    </tr>\n",
       "    <tr>\n",
       "      <th>3042</th>\n",
       "      <td>ham</td>\n",
       "      <td>Aight what time you want me to come up?</td>\n",
       "      <td>0</td>\n",
       "    </tr>\n",
       "    <tr>\n",
       "      <th>3509</th>\n",
       "      <td>ham</td>\n",
       "      <td>Camera quite good, 10.1mega pixels, 3optical a...</td>\n",
       "      <td>0</td>\n",
       "    </tr>\n",
       "    <tr>\n",
       "      <th>4422</th>\n",
       "      <td>ham</td>\n",
       "      <td>Still at west coast... Haiz... Ü'll take forev...</td>\n",
       "      <td>0</td>\n",
       "    </tr>\n",
       "    <tr>\n",
       "      <th>1038</th>\n",
       "      <td>ham</td>\n",
       "      <td>naughty little thought: 'its better to flirt, ...</td>\n",
       "      <td>0</td>\n",
       "    </tr>\n",
       "  </tbody>\n",
       "</table>\n",
       "</div>"
      ],
      "text/plain": [
       "     Category                                            Message  spam\n",
       "2147      ham                          So can collect ur laptop?     0\n",
       "3042      ham            Aight what time you want me to come up?     0\n",
       "3509      ham  Camera quite good, 10.1mega pixels, 3optical a...     0\n",
       "4422      ham  Still at west coast... Haiz... Ü'll take forev...     0\n",
       "1038      ham  naughty little thought: 'its better to flirt, ...     0"
      ]
     },
     "execution_count": 20,
     "metadata": {},
     "output_type": "execute_result"
    }
   ],
   "source": [
    "df_balanced.head()"
   ]
  },
  {
   "cell_type": "code",
   "execution_count": 25,
   "id": "af6fd1f8",
   "metadata": {},
   "outputs": [],
   "source": [
    "x = df_balanced.drop(['Category', 'spam'], axis = 'columns')\n",
    "y = df_balanced.spam"
   ]
  },
  {
   "cell_type": "code",
   "execution_count": 26,
   "id": "8b4b7460",
   "metadata": {},
   "outputs": [],
   "source": [
    "from sklearn.model_selection import train_test_split\n",
    "x_train, x_test, y_train, y_test = train_test_split(x, y, test_size=0.2, random_state=1, stratify=y)"
   ]
  },
  {
   "cell_type": "code",
   "execution_count": 27,
   "id": "ca818777",
   "metadata": {},
   "outputs": [
    {
     "data": {
      "text/plain": [
       "(1195, 1)"
      ]
     },
     "execution_count": 27,
     "metadata": {},
     "output_type": "execute_result"
    }
   ],
   "source": [
    "x_train.shape"
   ]
  },
  {
   "cell_type": "code",
   "execution_count": 28,
   "id": "4498e4cf",
   "metadata": {},
   "outputs": [
    {
     "data": {
      "text/plain": [
       "(299, 1)"
      ]
     },
     "execution_count": 28,
     "metadata": {},
     "output_type": "execute_result"
    }
   ],
   "source": [
    "x_test.shape"
   ]
  },
  {
   "cell_type": "code",
   "execution_count": 29,
   "id": "5ae12663",
   "metadata": {},
   "outputs": [
    {
     "data": {
      "text/plain": [
       "4647    1\n",
       "312     1\n",
       "1594    1\n",
       "3125    0\n",
       "2580    0\n",
       "3897    1\n",
       "2074    1\n",
       "1044    0\n",
       "4124    0\n",
       "2170    1\n",
       "Name: spam, dtype: int64"
      ]
     },
     "execution_count": 29,
     "metadata": {},
     "output_type": "execute_result"
    }
   ],
   "source": [
    "y_train[:10]"
   ]
  },
  {
   "cell_type": "code",
   "execution_count": 30,
   "id": "806a123c",
   "metadata": {},
   "outputs": [
    {
     "data": {
      "text/plain": [
       "3639    1\n",
       "415     1\n",
       "5537    1\n",
       "3377    0\n",
       "4968    1\n",
       "4442    0\n",
       "3483    1\n",
       "3460    1\n",
       "5088    0\n",
       "2978    0\n",
       "Name: spam, dtype: int64"
      ]
     },
     "execution_count": 30,
     "metadata": {},
     "output_type": "execute_result"
    }
   ],
   "source": [
    "y_test[:10]"
   ]
  },
  {
   "cell_type": "code",
   "execution_count": 31,
   "id": "9441bce7",
   "metadata": {},
   "outputs": [],
   "source": [
    "bert_preprocess = hub.KerasLayer(\"https://tfhub.dev/tensorflow/bert_en_uncased_preprocess/3\")\n",
    "bert_encoder = hub.KerasLayer(\"https://tfhub.dev/tensorflow/bert_en_uncased_L-12_H-768_A-12/4\")"
   ]
  },
  {
   "cell_type": "code",
   "execution_count": 32,
   "id": "f93b4831",
   "metadata": {},
   "outputs": [],
   "source": [
    "def get_sentence_embedding(sentences):\n",
    "    preprocessed_text = bert_preprocess(sentences)\n",
    "    return bert_encoder(preprocessed_text)['pooled_output']"
   ]
  },
  {
   "cell_type": "code",
   "execution_count": 33,
   "id": "060ef355",
   "metadata": {},
   "outputs": [
    {
     "data": {
      "text/plain": [
       "<tf.Tensor: shape=(2, 768), dtype=float32, numpy=\n",
       "array([[-0.843517  , -0.5132726 , -0.8884572 , ..., -0.74748856,\n",
       "        -0.7531473 ,  0.91964483],\n",
       "       [-0.8720835 , -0.50543964, -0.94446677, ..., -0.8584752 ,\n",
       "        -0.7174535 ,  0.8808299 ]], dtype=float32)>"
      ]
     },
     "execution_count": 33,
     "metadata": {},
     "output_type": "execute_result"
    }
   ],
   "source": [
    "get_sentence_embedding([\n",
    "    \"500$ discount. hurry up\", \n",
    "    \"Bhavin, are you up for a volleybal game tomorrow?\"]\n",
    ")"
   ]
  },
  {
   "cell_type": "code",
   "execution_count": 34,
   "id": "97fb2049",
   "metadata": {},
   "outputs": [],
   "source": [
    "e = get_sentence_embedding([\n",
    "    \"banana\", \n",
    "    \"grapes\",\n",
    "    \"mango\",\n",
    "    \"jeff bezos\",\n",
    "    \"elon musk\",\n",
    "    \"bill gates\"\n",
    "])"
   ]
  },
  {
   "cell_type": "code",
   "execution_count": 43,
   "id": "4bc00553",
   "metadata": {},
   "outputs": [],
   "source": [
    "from sklearn.metrics.pairwise import cosine_similarity\n",
    "from tensorflow import keras\n",
    "import tensorflow as tf"
   ]
  },
  {
   "cell_type": "code",
   "execution_count": 37,
   "id": "19cc01cb",
   "metadata": {},
   "outputs": [
    {
     "data": {
      "text/plain": [
       "array([[0.9911088]], dtype=float32)"
      ]
     },
     "execution_count": 37,
     "metadata": {},
     "output_type": "execute_result"
    }
   ],
   "source": [
    "cosine_similarity([e[0]], [e[1]])"
   ]
  },
  {
   "cell_type": "code",
   "execution_count": 38,
   "id": "47af62ad",
   "metadata": {},
   "outputs": [
    {
     "data": {
      "text/plain": [
       "array([[0.99540985]], dtype=float32)"
      ]
     },
     "execution_count": 38,
     "metadata": {},
     "output_type": "execute_result"
    }
   ],
   "source": [
    "cosine_similarity([e[0]], [e[2]])"
   ]
  },
  {
   "cell_type": "code",
   "execution_count": 39,
   "id": "683ad0e5",
   "metadata": {},
   "outputs": [
    {
     "data": {
      "text/plain": [
       "array([[0.8470383]], dtype=float32)"
      ]
     },
     "execution_count": 39,
     "metadata": {},
     "output_type": "execute_result"
    }
   ],
   "source": [
    "cosine_similarity([e[0]], [e[3]])"
   ]
  },
  {
   "cell_type": "code",
   "execution_count": 40,
   "id": "bb29d62a",
   "metadata": {},
   "outputs": [
    {
     "data": {
      "text/plain": [
       "array([[0.98720354]], dtype=float32)"
      ]
     },
     "execution_count": 40,
     "metadata": {},
     "output_type": "execute_result"
    }
   ],
   "source": [
    "cosine_similarity([e[3]], [e[4]])"
   ]
  },
  {
   "cell_type": "code",
   "execution_count": 44,
   "id": "12bbfc06",
   "metadata": {},
   "outputs": [],
   "source": [
    "# Bert layers\n",
    "text_input = keras.layers.Input(shape = (), dtype=tf.string, name = 'text')\n",
    "preprocessed_text = bert_preprocess(text_input)\n",
    "bert_output = bert_encoder(preprocessed_text)\n",
    "\n",
    "# Neural \n",
    "dropout_layer = keras.layers.Dropout(0.1, name = 'dropout')(bert_output['pooled_output'])\n",
    "final_layer = keras.layers.Dense(1, activation = 'sigmoid')(dropout_layer)"
   ]
  },
  {
   "cell_type": "code",
   "execution_count": 47,
   "id": "4412244a",
   "metadata": {},
   "outputs": [],
   "source": [
    "model = keras.Model(inputs = [text_input], outputs = [final_layer])"
   ]
  },
  {
   "cell_type": "code",
   "execution_count": 48,
   "id": "4dadc39f",
   "metadata": {},
   "outputs": [
    {
     "name": "stdout",
     "output_type": "stream",
     "text": [
      "Model: \"model_1\"\n",
      "__________________________________________________________________________________________________\n",
      " Layer (type)                   Output Shape         Param #     Connected to                     \n",
      "==================================================================================================\n",
      " text (InputLayer)              [(None,)]            0           []                               \n",
      "                                                                                                  \n",
      " keras_layer (KerasLayer)       {'input_word_ids':   0           ['text[0][0]']                   \n",
      "                                (None, 128),                                                      \n",
      "                                 'input_type_ids':                                                \n",
      "                                (None, 128),                                                      \n",
      "                                 'input_mask': (Non                                               \n",
      "                                e, 128)}                                                          \n",
      "                                                                                                  \n",
      " keras_layer_1 (KerasLayer)     {'sequence_output':  109482241   ['keras_layer[0][0]',            \n",
      "                                 (None, 128, 768),                'keras_layer[0][1]',            \n",
      "                                 'default': (None,                'keras_layer[0][2]']            \n",
      "                                768),                                                             \n",
      "                                 'pooled_output': (                                               \n",
      "                                None, 768),                                                       \n",
      "                                 'encoder_outputs':                                               \n",
      "                                 [(None, 128, 768),                                               \n",
      "                                 (None, 128, 768),                                                \n",
      "                                 (None, 128, 768),                                                \n",
      "                                 (None, 128, 768),                                                \n",
      "                                 (None, 128, 768),                                                \n",
      "                                 (None, 128, 768),                                                \n",
      "                                 (None, 128, 768),                                                \n",
      "                                 (None, 128, 768),                                                \n",
      "                                 (None, 128, 768),                                                \n",
      "                                 (None, 128, 768),                                                \n",
      "                                 (None, 128, 768),                                                \n",
      "                                 (None, 128, 768)]}                                               \n",
      "                                                                                                  \n",
      " dropout (Dropout)              (None, 768)          0           ['keras_layer_1[0][13]']         \n",
      "                                                                                                  \n",
      " dense (Dense)                  (None, 1)            769         ['dropout[0][0]']                \n",
      "                                                                                                  \n",
      "==================================================================================================\n",
      "Total params: 109,483,010\n",
      "Trainable params: 769\n",
      "Non-trainable params: 109,482,241\n",
      "__________________________________________________________________________________________________\n"
     ]
    }
   ],
   "source": [
    "model.summary()"
   ]
  },
  {
   "cell_type": "code",
   "execution_count": 49,
   "id": "f5a85d31",
   "metadata": {},
   "outputs": [],
   "source": [
    "model.compile(\n",
    "    optimizer='adam',\n",
    "    loss = 'binary_crossentropy',\n",
    "    metrics = ['accuracy']\n",
    ")"
   ]
  },
  {
   "cell_type": "code",
   "execution_count": 50,
   "id": "b0911969",
   "metadata": {},
   "outputs": [
    {
     "data": {
      "text/plain": [
       "(1195, 1)"
      ]
     },
     "execution_count": 50,
     "metadata": {},
     "output_type": "execute_result"
    }
   ],
   "source": [
    "x_train.shape"
   ]
  },
  {
   "cell_type": "code",
   "execution_count": 51,
   "id": "9590aee7",
   "metadata": {},
   "outputs": [
    {
     "data": {
      "text/plain": [
       "(299, 1)"
      ]
     },
     "execution_count": 51,
     "metadata": {},
     "output_type": "execute_result"
    }
   ],
   "source": [
    "x_test.shape"
   ]
  },
  {
   "cell_type": "code",
   "execution_count": 52,
   "id": "7b5f8690",
   "metadata": {},
   "outputs": [
    {
     "data": {
      "text/plain": [
       "(1195,)"
      ]
     },
     "execution_count": 52,
     "metadata": {},
     "output_type": "execute_result"
    }
   ],
   "source": [
    "y_train.shape"
   ]
  },
  {
   "cell_type": "code",
   "execution_count": 53,
   "id": "b80fe3dd",
   "metadata": {},
   "outputs": [
    {
     "data": {
      "text/plain": [
       "(299,)"
      ]
     },
     "execution_count": 53,
     "metadata": {},
     "output_type": "execute_result"
    }
   ],
   "source": [
    "y_test.shape"
   ]
  },
  {
   "cell_type": "code",
   "execution_count": 54,
   "id": "a4947847",
   "metadata": {},
   "outputs": [
    {
     "name": "stdout",
     "output_type": "stream",
     "text": [
      "Epoch 1/10\n",
      "38/38 [==============================] - 373s 9s/step - loss: 0.6822 - accuracy: 0.5833\n",
      "Epoch 2/10\n",
      "38/38 [==============================] - 332s 9s/step - loss: 0.5427 - accuracy: 0.7816\n",
      "Epoch 3/10\n",
      "38/38 [==============================] - 338s 9s/step - loss: 0.4591 - accuracy: 0.8368\n",
      "Epoch 4/10\n",
      "38/38 [==============================] - 337s 9s/step - loss: 0.4055 - accuracy: 0.8711\n",
      "Epoch 5/10\n",
      "38/38 [==============================] - 343s 9s/step - loss: 0.3737 - accuracy: 0.8770\n",
      "Epoch 6/10\n",
      "38/38 [==============================] - 340s 9s/step - loss: 0.3495 - accuracy: 0.8862\n",
      "Epoch 7/10\n",
      "38/38 [==============================] - 341s 9s/step - loss: 0.3306 - accuracy: 0.8996\n",
      "Epoch 8/10\n",
      "38/38 [==============================] - 339s 9s/step - loss: 0.3194 - accuracy: 0.8862\n",
      "Epoch 9/10\n",
      "38/38 [==============================] - 342s 9s/step - loss: 0.3086 - accuracy: 0.8954\n",
      "Epoch 10/10\n",
      "38/38 [==============================] - 334s 9s/step - loss: 0.2897 - accuracy: 0.9071\n"
     ]
    },
    {
     "data": {
      "text/plain": [
       "<keras.callbacks.History at 0x1ce1f4b9f90>"
      ]
     },
     "execution_count": 54,
     "metadata": {},
     "output_type": "execute_result"
    }
   ],
   "source": [
    "model.fit(x_train, y_train, epochs = 10)"
   ]
  },
  {
   "cell_type": "code",
   "execution_count": 55,
   "id": "99e8b065",
   "metadata": {},
   "outputs": [
    {
     "name": "stdout",
     "output_type": "stream",
     "text": [
      "10/10 [==============================] - 97s 9s/step - loss: 0.2275 - accuracy: 0.9431\n"
     ]
    },
    {
     "data": {
      "text/plain": [
       "[0.22753559052944183, 0.9431437849998474]"
      ]
     },
     "execution_count": 55,
     "metadata": {},
     "output_type": "execute_result"
    }
   ],
   "source": [
    "model.evaluate(x_test, y_test)"
   ]
  },
  {
   "cell_type": "code",
   "execution_count": 56,
   "id": "709e0328",
   "metadata": {},
   "outputs": [
    {
     "name": "stdout",
     "output_type": "stream",
     "text": [
      "10/10 [==============================] - 86s 8s/step\n"
     ]
    }
   ],
   "source": [
    "y_pred = model.predict(x_test)"
   ]
  },
  {
   "cell_type": "code",
   "execution_count": 57,
   "id": "8f3e4fba",
   "metadata": {},
   "outputs": [
    {
     "data": {
      "text/plain": [
       "array([[0.9109254 ],\n",
       "       [0.7636212 ],\n",
       "       [0.64167243],\n",
       "       [0.5309641 ],\n",
       "       [0.9440313 ],\n",
       "       [0.02360577],\n",
       "       [0.8360993 ],\n",
       "       [0.26306805],\n",
       "       [0.00987004],\n",
       "       [0.10198779],\n",
       "       [0.01170223],\n",
       "       [0.34958372],\n",
       "       [0.13501634],\n",
       "       [0.64051586],\n",
       "       [0.6842699 ],\n",
       "       [0.03687376],\n",
       "       [0.13614826],\n",
       "       [0.90100324],\n",
       "       [0.7244689 ],\n",
       "       [0.5497174 ],\n",
       "       [0.8737222 ],\n",
       "       [0.51650167],\n",
       "       [0.15737475],\n",
       "       [0.22922991],\n",
       "       [0.20791389],\n",
       "       [0.29461342],\n",
       "       [0.35348433],\n",
       "       [0.94028866],\n",
       "       [0.68769157],\n",
       "       [0.20315291],\n",
       "       [0.8427634 ],\n",
       "       [0.07415866],\n",
       "       [0.03817262],\n",
       "       [0.02634753],\n",
       "       [0.2059592 ],\n",
       "       [0.3432991 ],\n",
       "       [0.11469635],\n",
       "       [0.93292725],\n",
       "       [0.9316081 ],\n",
       "       [0.3507216 ],\n",
       "       [0.59050584],\n",
       "       [0.14587736],\n",
       "       [0.80897725],\n",
       "       [0.07575789],\n",
       "       [0.1398792 ],\n",
       "       [0.7795116 ],\n",
       "       [0.10393011],\n",
       "       [0.02014707],\n",
       "       [0.09137084],\n",
       "       [0.7580207 ],\n",
       "       [0.7489051 ],\n",
       "       [0.7181693 ],\n",
       "       [0.897912  ],\n",
       "       [0.88467824],\n",
       "       [0.09744857],\n",
       "       [0.01235579],\n",
       "       [0.9671315 ],\n",
       "       [0.9374214 ],\n",
       "       [0.24068105],\n",
       "       [0.7520978 ],\n",
       "       [0.19271526],\n",
       "       [0.18778832],\n",
       "       [0.727901  ],\n",
       "       [0.51126236],\n",
       "       [0.8764733 ],\n",
       "       [0.39010683],\n",
       "       [0.18692295],\n",
       "       [0.9171882 ],\n",
       "       [0.21867256],\n",
       "       [0.5012645 ],\n",
       "       [0.04898775],\n",
       "       [0.9366996 ],\n",
       "       [0.9258114 ],\n",
       "       [0.852047  ],\n",
       "       [0.86374253],\n",
       "       [0.07550054],\n",
       "       [0.06321366],\n",
       "       [0.9213103 ],\n",
       "       [0.80256724],\n",
       "       [0.8064355 ],\n",
       "       [0.23631962],\n",
       "       [0.7697662 ],\n",
       "       [0.3229584 ],\n",
       "       [0.04046239],\n",
       "       [0.7264702 ],\n",
       "       [0.9351154 ],\n",
       "       [0.7855973 ],\n",
       "       [0.77767813],\n",
       "       [0.16716567],\n",
       "       [0.9563857 ],\n",
       "       [0.85659266],\n",
       "       [0.82995456],\n",
       "       [0.95178354],\n",
       "       [0.9453283 ],\n",
       "       [0.09419619],\n",
       "       [0.9451946 ],\n",
       "       [0.07359406],\n",
       "       [0.07359406],\n",
       "       [0.8601564 ],\n",
       "       [0.7894171 ],\n",
       "       [0.75044197],\n",
       "       [0.06896967],\n",
       "       [0.27548358],\n",
       "       [0.89835215],\n",
       "       [0.19420402],\n",
       "       [0.80237895],\n",
       "       [0.0721079 ],\n",
       "       [0.96997285],\n",
       "       [0.7165102 ],\n",
       "       [0.08419461],\n",
       "       [0.43335986],\n",
       "       [0.170259  ],\n",
       "       [0.9163704 ],\n",
       "       [0.93707335],\n",
       "       [0.9378002 ],\n",
       "       [0.6127279 ],\n",
       "       [0.9515459 ],\n",
       "       [0.07940417],\n",
       "       [0.84868175],\n",
       "       [0.8778371 ],\n",
       "       [0.59541065],\n",
       "       [0.7316577 ],\n",
       "       [0.01840129],\n",
       "       [0.7175442 ],\n",
       "       [0.28837582],\n",
       "       [0.9129085 ],\n",
       "       [0.06817761],\n",
       "       [0.7923351 ],\n",
       "       [0.49754936],\n",
       "       [0.18274468],\n",
       "       [0.81138813],\n",
       "       [0.02541334],\n",
       "       [0.051615  ],\n",
       "       [0.8838903 ],\n",
       "       [0.68864685],\n",
       "       [0.46061608],\n",
       "       [0.16845974],\n",
       "       [0.95108014],\n",
       "       [0.8291406 ],\n",
       "       [0.95425093],\n",
       "       [0.19680114],\n",
       "       [0.27292803],\n",
       "       [0.46432513],\n",
       "       [0.1462768 ],\n",
       "       [0.7421766 ],\n",
       "       [0.80710894],\n",
       "       [0.02083246],\n",
       "       [0.02146026],\n",
       "       [0.83560854],\n",
       "       [0.19399388],\n",
       "       [0.78429615],\n",
       "       [0.1219798 ],\n",
       "       [0.8113581 ],\n",
       "       [0.7795116 ],\n",
       "       [0.8937554 ],\n",
       "       [0.14373618],\n",
       "       [0.09841692],\n",
       "       [0.07287948],\n",
       "       [0.02859505],\n",
       "       [0.1261443 ],\n",
       "       [0.01633283],\n",
       "       [0.9538976 ],\n",
       "       [0.897912  ],\n",
       "       [0.13785806],\n",
       "       [0.23810026],\n",
       "       [0.04678672],\n",
       "       [0.9368569 ],\n",
       "       [0.05293184],\n",
       "       [0.29872695],\n",
       "       [0.90401655],\n",
       "       [0.05654321],\n",
       "       [0.88276684],\n",
       "       [0.30000103],\n",
       "       [0.21149495],\n",
       "       [0.85934305],\n",
       "       [0.93276244],\n",
       "       [0.15758847],\n",
       "       [0.13290288],\n",
       "       [0.389488  ],\n",
       "       [0.76233655],\n",
       "       [0.11079963],\n",
       "       [0.21657127],\n",
       "       [0.9070038 ],\n",
       "       [0.91348827],\n",
       "       [0.14306943],\n",
       "       [0.08834511],\n",
       "       [0.02879102],\n",
       "       [0.89505357],\n",
       "       [0.92896956],\n",
       "       [0.7733434 ],\n",
       "       [0.06865903],\n",
       "       [0.12174791],\n",
       "       [0.02373723],\n",
       "       [0.03641622],\n",
       "       [0.926409  ],\n",
       "       [0.03899919],\n",
       "       [0.8817344 ],\n",
       "       [0.1359793 ],\n",
       "       [0.03999221],\n",
       "       [0.07788024],\n",
       "       [0.08972654],\n",
       "       [0.15714614],\n",
       "       [0.62160736],\n",
       "       [0.34819362],\n",
       "       [0.8113581 ],\n",
       "       [0.11074874],\n",
       "       [0.10393123],\n",
       "       [0.18057233],\n",
       "       [0.13272855],\n",
       "       [0.18812315],\n",
       "       [0.96556216],\n",
       "       [0.8263848 ],\n",
       "       [0.06823944],\n",
       "       [0.35108036],\n",
       "       [0.5489084 ],\n",
       "       [0.0852496 ],\n",
       "       [0.91673833],\n",
       "       [0.9256097 ],\n",
       "       [0.920566  ],\n",
       "       [0.22032061],\n",
       "       [0.89401215],\n",
       "       [0.4352475 ],\n",
       "       [0.8990241 ],\n",
       "       [0.95463675],\n",
       "       [0.9257195 ],\n",
       "       [0.92683333],\n",
       "       [0.7558396 ],\n",
       "       [0.5906666 ],\n",
       "       [0.9497847 ],\n",
       "       [0.8268057 ],\n",
       "       [0.20994754],\n",
       "       [0.75918025],\n",
       "       [0.14052887],\n",
       "       [0.14962354],\n",
       "       [0.26026496],\n",
       "       [0.7172376 ],\n",
       "       [0.81263846],\n",
       "       [0.05492088],\n",
       "       [0.7560206 ],\n",
       "       [0.7932376 ],\n",
       "       [0.05685341],\n",
       "       [0.93700206],\n",
       "       [0.39205176],\n",
       "       [0.3052067 ],\n",
       "       [0.14267592],\n",
       "       [0.5938382 ],\n",
       "       [0.89094347],\n",
       "       [0.7175442 ],\n",
       "       [0.68413407],\n",
       "       [0.16788065],\n",
       "       [0.81248355],\n",
       "       [0.61894   ],\n",
       "       [0.7291896 ],\n",
       "       [0.83431906],\n",
       "       [0.09339326],\n",
       "       [0.01762102],\n",
       "       [0.08193643],\n",
       "       [0.21615127],\n",
       "       [0.53441733],\n",
       "       [0.09968005],\n",
       "       [0.6744078 ],\n",
       "       [0.9024833 ],\n",
       "       [0.1273677 ],\n",
       "       [0.10497673],\n",
       "       [0.03739924],\n",
       "       [0.03235365],\n",
       "       [0.02950425],\n",
       "       [0.42873576],\n",
       "       [0.6557471 ],\n",
       "       [0.6332714 ],\n",
       "       [0.11340385],\n",
       "       [0.68124205],\n",
       "       [0.15697007],\n",
       "       [0.11830251],\n",
       "       [0.9454777 ],\n",
       "       [0.8265541 ],\n",
       "       [0.80585045],\n",
       "       [0.93491507],\n",
       "       [0.8954292 ],\n",
       "       [0.8001932 ],\n",
       "       [0.9026502 ],\n",
       "       [0.91341394],\n",
       "       [0.9509853 ],\n",
       "       [0.9716589 ],\n",
       "       [0.65801746],\n",
       "       [0.7710065 ],\n",
       "       [0.43335986],\n",
       "       [0.06296693],\n",
       "       [0.09711079],\n",
       "       [0.6077163 ],\n",
       "       [0.03469087],\n",
       "       [0.21909393],\n",
       "       [0.9761819 ],\n",
       "       [0.9141447 ],\n",
       "       [0.807161  ],\n",
       "       [0.88859   ],\n",
       "       [0.9283038 ],\n",
       "       [0.5094017 ],\n",
       "       [0.2788815 ]], dtype=float32)"
      ]
     },
     "execution_count": 57,
     "metadata": {},
     "output_type": "execute_result"
    }
   ],
   "source": [
    "y_pred"
   ]
  },
  {
   "cell_type": "code",
   "execution_count": 66,
   "id": "d3307c1e",
   "metadata": {},
   "outputs": [],
   "source": [
    "import numpy as np\n",
    "y_pred = y_pred.flatten()\n",
    "y_pred = np.where(y_pred > 0.5, 1, 0)"
   ]
  },
  {
   "cell_type": "code",
   "execution_count": 67,
   "id": "71c19ef4",
   "metadata": {},
   "outputs": [
    {
     "data": {
      "text/plain": [
       "array([1, 1, 1, 1, 1])"
      ]
     },
     "execution_count": 67,
     "metadata": {},
     "output_type": "execute_result"
    }
   ],
   "source": [
    "y_pred[:5]"
   ]
  },
  {
   "cell_type": "code",
   "execution_count": 68,
   "id": "9d7a8aa6",
   "metadata": {},
   "outputs": [
    {
     "data": {
      "text/plain": [
       "array([[138,  11],\n",
       "       [  6, 144]], dtype=int64)"
      ]
     },
     "execution_count": 68,
     "metadata": {},
     "output_type": "execute_result"
    }
   ],
   "source": [
    "from sklearn.metrics import confusion_matrix, classification_report\n",
    "cm = confusion_matrix(y_test, y_pred)\n",
    "cm"
   ]
  },
  {
   "cell_type": "code",
   "execution_count": 69,
   "id": "fef3d078",
   "metadata": {},
   "outputs": [
    {
     "data": {
      "text/plain": [
       "Text(50.722222222222214, 0.5, 'Truth')"
      ]
     },
     "execution_count": 69,
     "metadata": {},
     "output_type": "execute_result"
    },
    {
     "data": {
      "image/png": "[encoded data removed]",
      "text/plain": [
       "<Figure size 640x480 with 2 Axes>"
      ]
     },
     "metadata": {},
     "output_type": "display_data"
    }
   ],
   "source": [
    "from matplotlib import pyplot as plt\n",
    "import seaborn as sn\n",
    "sn.heatmap(cm, annot=True, fmt='d')\n",
    "plt.xlabel('Predicted')\n",
    "plt.ylabel('Truth')"
   ]
  },
  {
   "cell_type": "code",
   "execution_count": 70,
   "id": "1fbec7ed",
   "metadata": {},
   "outputs": [
    {
     "name": "stdout",
     "output_type": "stream",
     "text": [
      "              precision    recall  f1-score   support\n",
      "\n",
      "           0       0.96      0.93      0.94       149\n",
      "           1       0.93      0.96      0.94       150\n",
      "\n",
      "    accuracy                           0.94       299\n",
      "   macro avg       0.94      0.94      0.94       299\n",
      "weighted avg       0.94      0.94      0.94       299\n",
      "\n"
     ]
    }
   ],
   "source": [
    "print(classification_report(y_test, y_pred))"
   ]
  },
  {
   "cell_type": "code",
   "execution_count": 71,
   "id": "25cd5ec1",
   "metadata": {},
   "outputs": [
    {
     "name": "stdout",
     "output_type": "stream",
     "text": [
      "1/1 [==============================] - 3s 3s/step\n"
     ]
    },
    {
     "data": {
      "text/plain": [
       "array([[0.71398926],\n",
       "       [0.8196153 ],\n",
       "       [0.737107  ],\n",
       "       [0.21245362],\n",
       "       [0.11548032]], dtype=float32)"
      ]
     },
     "execution_count": 71,
     "metadata": {},
     "output_type": "execute_result"
    }
   ],
   "source": [
    "reviews = [\n",
    "    'Enter a chance to win $5000, hurry up, offer valid until march 31, 2021',\n",
    "    'You are awarded a SiPix Digital Camera! call 09061221061 from landline. Delivery within 28days. T Cs Box177. M221BP. 2yr warranty. 150ppm. 16 . p pÂ£3.99',\n",
    "    'it to 80488. Your 500 free text messages are valid until 31 December 2005.',\n",
    "    'Hey Sam, Are you coming for a cricket game tomorrow',\n",
    "    \"Why don't you wait 'til at least wednesday to see if you get your .\"\n",
    "]\n",
    "model.predict(reviews)"
   ]
  },
  {
   "cell_type": "code",
   "execution_count": null,
   "id": "b1370011",
   "metadata": {},
   "outputs": [],
   "source": []
  }
 ],
 "metadata": {
  "kernelspec": {
   "display_name": "Python 3 (ipykernel)",
   "language": "python",
   "name": "python3"
  },
  "language_info": {
   "codemirror_mode": {
    "name": "ipython",
    "version": 3
   },
   "file_extension": ".py",
   "mimetype": "text/x-python",
   "name": "python",
   "nbconvert_exporter": "python",
   "pygments_lexer": "ipython3",
   "version": "3.10.9"
  }
 },
 "nbformat": 4,
 "nbformat_minor": 5
}
