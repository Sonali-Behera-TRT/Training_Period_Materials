{
 "cells": [
  {
   "cell_type": "code",
   "execution_count": 14,
   "id": "4ad098c4",
   "metadata": {},
   "outputs": [],
   "source": [
    "import numpy as np"
   ]
  },
  {
   "cell_type": "code",
   "execution_count": 15,
   "id": "742adcf9",
   "metadata": {},
   "outputs": [],
   "source": [
    "y_predicted = np.array([1,1,0,0,1])\n",
    "y_true = np.array([0.30,0.7,1,0,0.5])"
   ]
  },
  {
   "cell_type": "markdown",
   "id": "20a6c257",
   "metadata": {},
   "source": [
    "# Mean Absolute Error"
   ]
  },
  {
   "cell_type": "code",
   "execution_count": 16,
   "id": "0e43b25b",
   "metadata": {},
   "outputs": [],
   "source": [
    "def mae(y_pred, y_orig):\n",
    "    total_error = 0\n",
    "    for yp, yo in zip(y_pred, y_orig):\n",
    "        total_error += abs(yp - yo)\n",
    "    print('Total Error: ', total_error)\n",
    "    print('Mean Absolute Error: ', total_error / len(y_pred))"
   ]
  },
  {
   "cell_type": "code",
   "execution_count": 17,
   "id": "cd9a7d1e",
   "metadata": {},
   "outputs": [
    {
     "name": "stdout",
     "output_type": "stream",
     "text": [
      "Total Error:  2.5\n",
      "Mean Absolute Error:  0.5\n"
     ]
    }
   ],
   "source": [
    "mae(y_predicted, y_true)"
   ]
  },
  {
   "cell_type": "markdown",
   "id": "605a3277",
   "metadata": {},
   "source": [
    "## Using numpy library"
   ]
  },
  {
   "cell_type": "code",
   "execution_count": 18,
   "id": "7a03b7a3",
   "metadata": {},
   "outputs": [
    {
     "data": {
      "text/plain": [
       "array([0.7, 0.3, 1. , 0. , 0.5])"
      ]
     },
     "execution_count": 18,
     "metadata": {},
     "output_type": "execute_result"
    }
   ],
   "source": [
    "diff = np.abs(y_predicted - y_true)\n",
    "diff"
   ]
  },
  {
   "cell_type": "code",
   "execution_count": 19,
   "id": "3717205e",
   "metadata": {},
   "outputs": [
    {
     "data": {
      "text/plain": [
       "0.5"
      ]
     },
     "execution_count": 19,
     "metadata": {},
     "output_type": "execute_result"
    }
   ],
   "source": [
    "np.mean(diff)"
   ]
  },
  {
   "cell_type": "code",
   "execution_count": 20,
   "id": "f05dd6a5",
   "metadata": {},
   "outputs": [
    {
     "data": {
      "text/plain": [
       "2.5"
      ]
     },
     "execution_count": 20,
     "metadata": {},
     "output_type": "execute_result"
    }
   ],
   "source": [
    "np.sum(diff)"
   ]
  },
  {
   "cell_type": "markdown",
   "id": "dd46f474",
   "metadata": {},
   "source": [
    "# Log loss or Binary cross entropy"
   ]
  },
  {
   "cell_type": "code",
   "execution_count": 23,
   "id": "230a9888",
   "metadata": {},
   "outputs": [
    {
     "data": {
      "text/plain": [
       "[0.999999999999999, 0.999999999999999, 1e-15, 1e-15, 0.999999999999999]"
      ]
     },
     "execution_count": 23,
     "metadata": {},
     "output_type": "execute_result"
    }
   ],
   "source": [
    "epsilion = 1e-15\n",
    "y_pred_new = [max(i, epsilion) for i in y_predicted]\n",
    "y_pred_new = [min(i, (1 - epsilion)) for i in y_pred_new]\n",
    "y_pred_new"
   ]
  },
  {
   "cell_type": "code",
   "execution_count": 26,
   "id": "fe6d1d6b",
   "metadata": {},
   "outputs": [],
   "source": [
    "def log_loss(y_pred, y_orig):\n",
    "    epsilion = 1e-15\n",
    "    y_pred_new = [max(i, epsilion) for i in y_pred]\n",
    "    y_pred_new = [min(i, (1 - epsilion)) for i in y_pred_new]\n",
    "    y_pred_new = np.array(y_pred_new)\n",
    "    total_error = 0\n",
    "    for yp, yo in zip(y_pred_new, y_orig):\n",
    "        first_term = yo * np.log(yp)\n",
    "        sec_term = (1 - yo) * np.log(1 - yp)\n",
    "        total_error += first_term + sec_term\n",
    "    print('Total Error: ', total_error)\n",
    "    print('Log loss error: ', -total_error / len(y_pred))"
   ]
  },
  {
   "cell_type": "code",
   "execution_count": 27,
   "id": "b2cce34e",
   "metadata": {},
   "outputs": [
    {
     "name": "stdout",
     "output_type": "stream",
     "text": [
      "Total Error:  -86.34814038342199\n",
      "Log loss error:  17.2696280766844\n"
     ]
    }
   ],
   "source": [
    "log_loss(y_predicted, y_true)"
   ]
  },
  {
   "cell_type": "markdown",
   "id": "13dbd274",
   "metadata": {},
   "source": [
    "## With using numpy library"
   ]
  },
  {
   "cell_type": "code",
   "execution_count": 28,
   "id": "f7d15e6e",
   "metadata": {},
   "outputs": [],
   "source": [
    "def log_loss(y_pred, y_orig):\n",
    "    epsilion = 1e-15\n",
    "    y_pred_new = [max(i, epsilion) for i in y_pred]\n",
    "    y_pred_new = [min(i, (1 - epsilion)) for i in y_pred_new]\n",
    "    y_pred_new = np.array(y_pred_new)\n",
    "    return -np.mean(y_orig * np.log(y_pred_new) + (1 - y_orig) * np.log(1 - y_pred_new))"
   ]
  },
  {
   "cell_type": "code",
   "execution_count": 29,
   "id": "4abe54b7",
   "metadata": {},
   "outputs": [
    {
     "data": {
      "text/plain": [
       "17.2696280766844"
      ]
     },
     "execution_count": 29,
     "metadata": {},
     "output_type": "execute_result"
    }
   ],
   "source": [
    "log_loss(y_predicted, y_true)"
   ]
  },
  {
   "cell_type": "markdown",
   "id": "04ecff91",
   "metadata": {},
   "source": [
    "# Exercise(Mean Squared Error)"
   ]
  },
  {
   "cell_type": "code",
   "execution_count": 21,
   "id": "83cdc5dc",
   "metadata": {},
   "outputs": [],
   "source": [
    "def mse(y_pred, y_orig):\n",
    "    total_error = 0\n",
    "    for yp, yo in zip(y_pred, y_orig):\n",
    "        total_error += (yp - yo) ** 2\n",
    "    print('Total Error: ', total_error)\n",
    "    print('Mean Squared Error: ', total_error / len(y_pred))"
   ]
  },
  {
   "cell_type": "code",
   "execution_count": 30,
   "id": "e18bd291",
   "metadata": {},
   "outputs": [
    {
     "name": "stdout",
     "output_type": "stream",
     "text": [
      "Total Error:  1.83\n",
      "Mean Squared Error:  0.366\n"
     ]
    }
   ],
   "source": [
    "mse(y_predicted, y_true)"
   ]
  },
  {
   "cell_type": "markdown",
   "id": "d4548793",
   "metadata": {},
   "source": [
    "## With Numpy Library"
   ]
  },
  {
   "cell_type": "code",
   "execution_count": 32,
   "id": "6004f4f2",
   "metadata": {},
   "outputs": [
    {
     "data": {
      "text/plain": [
       "0.366"
      ]
     },
     "execution_count": 32,
     "metadata": {},
     "output_type": "execute_result"
    }
   ],
   "source": [
    "np.mean(np.square(y_predicted - y_true))"
   ]
  },
  {
   "cell_type": "code",
   "execution_count": null,
   "id": "34faac7b",
   "metadata": {},
   "outputs": [],
   "source": []
  }
 ],
 "metadata": {
  "kernelspec": {
   "display_name": "Python 3 (ipykernel)",
   "language": "python",
   "name": "python3"
  },
  "language_info": {
   "codemirror_mode": {
    "name": "ipython",
    "version": 3
   },
   "file_extension": ".py",
   "mimetype": "text/x-python",
   "name": "python",
   "nbconvert_exporter": "python",
   "pygments_lexer": "ipython3",
   "version": "3.11.4"
  }
 },
 "nbformat": 4,
 "nbformat_minor": 5
}
