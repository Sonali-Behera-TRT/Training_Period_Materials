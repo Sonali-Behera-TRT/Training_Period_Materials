{
 "cells": [
  {
   "cell_type": "code",
   "execution_count": 1,
   "id": "044c4194",
   "metadata": {},
   "outputs": [],
   "source": [
    "from fastbook import *"
   ]
  },
  {
   "cell_type": "code",
   "execution_count": 2,
   "id": "30d0853a",
   "metadata": {},
   "outputs": [
    {
     "data": {
      "text/html": [
       "\n",
       "<style>\n",
       "    /* Turns off some styling */\n",
       "    progress {\n",
       "        /* gets rid of default border in Firefox and Opera. */\n",
       "        border: none;\n",
       "        /* Needs to be in here for Safari polyfill so background images work as expected. */\n",
       "        background-size: auto;\n",
       "    }\n",
       "    progress:not([value]), progress:not([value])::-webkit-progress-bar {\n",
       "        background: repeating-linear-gradient(45deg, #7e7e7e, #7e7e7e 10px, #5c5c5c 10px, #5c5c5c 20px);\n",
       "    }\n",
       "    .progress-bar-interrupted, .progress-bar-interrupted::-webkit-progress-bar {\n",
       "        background: #F44336;\n",
       "    }\n",
       "</style>\n"
      ],
      "text/plain": [
       "<IPython.core.display.HTML object>"
      ]
     },
     "metadata": {},
     "output_type": "display_data"
    },
    {
     "data": {
      "text/html": [
       "\n",
       "    <div>\n",
       "      <progress value='16384' class='' max='10245' style='width:300px; height:20px; vertical-align: middle;'></progress>\n",
       "      159.92% [16384/10245 00:00&lt;00:00]\n",
       "    </div>\n",
       "    "
      ],
      "text/plain": [
       "<IPython.core.display.HTML object>"
      ]
     },
     "metadata": {},
     "output_type": "display_data"
    },
    {
     "data": {
      "text/plain": [
       "Path('stone.jpg')"
      ]
     },
     "execution_count": 2,
     "metadata": {},
     "output_type": "execute_result"
    }
   ],
   "source": [
    "url = search_images_ddg('close fist images', max_images = 1)\n",
    "download_url(url[0], 'stone.jpg')"
   ]
  },
  {
   "cell_type": "code",
   "execution_count": 3,
   "id": "445f9190",
   "metadata": {},
   "outputs": [
    {
     "ename": "UnidentifiedImageError",
     "evalue": "cannot identify image file 'stone.jpg'",
     "output_type": "error",
     "traceback": [
      "\u001b[1;31m---------------------------------------------------------------------------\u001b[0m",
      "\u001b[1;31mUnidentifiedImageError\u001b[0m                    Traceback (most recent call last)",
      "Cell \u001b[1;32mIn[3], line 1\u001b[0m\n\u001b[1;32m----> 1\u001b[0m \u001b[43mImage\u001b[49m\u001b[38;5;241;43m.\u001b[39;49m\u001b[43mopen\u001b[49m\u001b[43m(\u001b[49m\u001b[38;5;124;43m'\u001b[39;49m\u001b[38;5;124;43mstone.jpg\u001b[39;49m\u001b[38;5;124;43m'\u001b[39;49m\u001b[43m)\u001b[49m\u001b[38;5;241m.\u001b[39mto_thumb(\u001b[38;5;241m400\u001b[39m, \u001b[38;5;241m400\u001b[39m)\n",
      "File \u001b[1;32mC:\\Python311\\Lib\\site-packages\\PIL\\Image.py:3298\u001b[0m, in \u001b[0;36mopen\u001b[1;34m(fp, mode, formats)\u001b[0m\n\u001b[0;32m   3296\u001b[0m     warnings\u001b[38;5;241m.\u001b[39mwarn(message)\n\u001b[0;32m   3297\u001b[0m msg \u001b[38;5;241m=\u001b[39m \u001b[38;5;124m\"\u001b[39m\u001b[38;5;124mcannot identify image file \u001b[39m\u001b[38;5;132;01m%r\u001b[39;00m\u001b[38;5;124m\"\u001b[39m \u001b[38;5;241m%\u001b[39m (filename \u001b[38;5;28;01mif\u001b[39;00m filename \u001b[38;5;28;01melse\u001b[39;00m fp)\n\u001b[1;32m-> 3298\u001b[0m \u001b[38;5;28;01mraise\u001b[39;00m UnidentifiedImageError(msg)\n",
      "\u001b[1;31mUnidentifiedImageError\u001b[0m: cannot identify image file 'stone.jpg'"
     ]
    }
   ],
   "source": [
    "Image.open('stone.jpg').to_thumb(400, 400)"
   ]
  },
  {
   "cell_type": "code",
   "execution_count": null,
   "id": "2c3aaec5",
   "metadata": {},
   "outputs": [],
   "source": [
    "url = search_images_ddg('palm with hand images', max_images = 1)\n",
    "download_url(url[0], 'paper.jpg')"
   ]
  },
  {
   "cell_type": "code",
   "execution_count": null,
   "id": "f34c1b65",
   "metadata": {},
   "outputs": [],
   "source": [
    "Image.open('paper.jpg').to_thumb(200, 200)"
   ]
  },
  {
   "cell_type": "code",
   "execution_count": null,
   "id": "bf1f2ed8",
   "metadata": {},
   "outputs": [],
   "source": [
    "url = search_images_ddg('victory symbol in real hand images', max_images = 1)\n",
    "download_url(url[0], 'scissor.jpg')"
   ]
  },
  {
   "cell_type": "code",
   "execution_count": null,
   "id": "957b0c0b",
   "metadata": {},
   "outputs": [],
   "source": [
    "Image.open('scissor.jpg').to_thumb(200, 200)"
   ]
  },
  {
   "cell_type": "code",
   "execution_count": null,
   "id": "eb53f903",
   "metadata": {},
   "outputs": [],
   "source": []
  }
 ],
 "metadata": {
  "kernelspec": {
   "display_name": "Python 3 (ipykernel)",
   "language": "python",
   "name": "python3"
  },
  "language_info": {
   "codemirror_mode": {
    "name": "ipython",
    "version": 3
   },
   "file_extension": ".py",
   "mimetype": "text/x-python",
   "name": "python",
   "nbconvert_exporter": "python",
   "pygments_lexer": "ipython3",
   "version": "3.11.3"
  }
 },
 "nbformat": 4,
 "nbformat_minor": 5
}
